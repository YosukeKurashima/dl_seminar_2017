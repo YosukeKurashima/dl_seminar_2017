{
 "cells": [
  {
   "cell_type": "code",
   "execution_count": null,
   "metadata": {
    "collapsed": true
   },
   "outputs": [],
   "source": [
    "import numpy as np\n",
    "import pickle\n",
    "import matplotlib.pyplot as plt"
   ]
  },
  {
   "cell_type": "code",
   "execution_count": null,
   "metadata": {
    "collapsed": true
   },
   "outputs": [],
   "source": [
    "%matplotlib inline"
   ]
  },
  {
   "cell_type": "code",
   "execution_count": null,
   "metadata": {
    "collapsed": true
   },
   "outputs": [],
   "source": [
    "# データ読み込み\n",
    "exam_data = pickle.load(open(\"exam_data_100.pkl\", \"br\"))\n",
    "data_x = np.array([(t[1], t[2]) for t in exam_data], dtype=np.float32)\n",
    "result = np.array([t[0] for t in exam_data], dtype=np.int32)\n",
    "\n",
    "# data_x： 入力変数\n",
    "#   カラム0： 欠席率 (absence_rate)\n",
    "#   カラム1： 課題提出率 (submission_rate)\n",
    "# result： 合否結果（result）"
   ]
  },
  {
   "cell_type": "code",
   "execution_count": null,
   "metadata": {},
   "outputs": [],
   "source": [
    "# 入力変数のshape\n",
    "data_x.shape"
   ]
  },
  {
   "cell_type": "code",
   "execution_count": null,
   "metadata": {},
   "outputs": [],
   "source": [
    "# 入力変数 最初の10件\n",
    "data_x[:10]"
   ]
  },
  {
   "cell_type": "code",
   "execution_count": null,
   "metadata": {},
   "outputs": [],
   "source": [
    "# 合否結果のshape\n",
    "result.shape"
   ]
  },
  {
   "cell_type": "code",
   "execution_count": null,
   "metadata": {},
   "outputs": [],
   "source": [
    "# 合否結果 最初の10件\n",
    "result[:10]"
   ]
  },
  {
   "cell_type": "code",
   "execution_count": null,
   "metadata": {
    "collapsed": true
   },
   "outputs": [],
   "source": []
  },
  {
   "cell_type": "code",
   "execution_count": null,
   "metadata": {
    "collapsed": true
   },
   "outputs": [],
   "source": [
    "# シグモイド関数\n",
    "def sigmoid(x):\n",
    "    return 1. / (1 + np.exp(-x))"
   ]
  },
  {
   "cell_type": "code",
   "execution_count": null,
   "metadata": {},
   "outputs": [],
   "source": [
    "x = np.linspace(-10, 10, 101)\n",
    "plt.plot(x, sigmoid(x))"
   ]
  },
  {
   "cell_type": "code",
   "execution_count": null,
   "metadata": {
    "collapsed": true
   },
   "outputs": [],
   "source": []
  },
  {
   "cell_type": "code",
   "execution_count": null,
   "metadata": {
    "collapsed": true
   },
   "outputs": [],
   "source": [
    "# 結果レポート用の関数\n",
    "def report(y, rec_num=10):\n",
    "    cnt = 0\n",
    "    for i, y_val in enumerate(y[:rec_num]):\n",
    "        x = data_x[i]\n",
    "        result_val = result[i]\n",
    "\n",
    "        if y_val > 0.5:\n",
    "            pred = 1\n",
    "        else:\n",
    "            pred = 0\n",
    "\n",
    "        if pred == result_val:\n",
    "            cnt += 1\n",
    "\n",
    "        print(\"欠席率 {:.02f}、課題提出率 {:.02f} → 予想合格率： {:.03f}、予想： {}, 実績： {}\".format(\n",
    "                x[0], x[1], y_val, pred, result_val))\n",
    "        \n",
    "    print(\"\")\n",
    "    print(\"合致数： {}\".format(cnt))"
   ]
  },
  {
   "cell_type": "code",
   "execution_count": null,
   "metadata": {
    "collapsed": true
   },
   "outputs": [],
   "source": []
  },
  {
   "cell_type": "code",
   "execution_count": null,
   "metadata": {
    "collapsed": true
   },
   "outputs": [],
   "source": [
    "# 中間層を持たないニューラルネット（1ユニット分）"
   ]
  },
  {
   "cell_type": "code",
   "execution_count": null,
   "metadata": {},
   "outputs": [],
   "source": [
    "# パラメータの準備\n",
    "w = np.array([-4., 5.], dtype=np.float32)\n",
    "b = np.array(0.2, dtype=np.float32)\n",
    "\n",
    "# 入力変数\n",
    "x = data_x[0]\n",
    "\n",
    "# 実際の計算\n",
    "a = np.dot(x, w) + b\n",
    "y = sigmoid(a)\n",
    "\n",
    "print(\"欠席率 {:.02f}、課題提出率 {:.02f}\".format(x[0], x[1]))\n",
    "print(\"予想合格率： {:.03f}\".format(y))"
   ]
  },
  {
   "cell_type": "code",
   "execution_count": null,
   "metadata": {},
   "outputs": [],
   "source": [
    "# パラメータの準備\n",
    "w = np.array([-4., 5.], dtype=np.float32)\n",
    "b = np.array(0.3, dtype=np.float32)\n",
    "\n",
    "# 実際の計算\n",
    "a = np.dot(data_x, w) + b\n",
    "y = sigmoid(a)\n",
    "\n",
    "# 結果レポート\n",
    "report(y, 10)"
   ]
  },
  {
   "cell_type": "code",
   "execution_count": null,
   "metadata": {
    "collapsed": true
   },
   "outputs": [],
   "source": []
  },
  {
   "cell_type": "code",
   "execution_count": null,
   "metadata": {
    "collapsed": true
   },
   "outputs": [],
   "source": [
    "# 3層のニューラルネット"
   ]
  },
  {
   "cell_type": "code",
   "execution_count": null,
   "metadata": {},
   "outputs": [],
   "source": [
    "# パラメータの準備\n",
    "W1 = np.array([[-1.682, -0.296, -1.660], \n",
    "               [1.522, 0.278, 1.454]], dtype=np.float32)\n",
    "b1 = np.array([-0.153, -0.039, -0.138], dtype=np.float32)\n",
    "\n",
    "w2 = np.array([2.003, 0.055, 1.939], dtype=np.float32)\n",
    "b2 = np.array(-1.571, dtype=np.float32)\n",
    "\n",
    "# 入力変数\n",
    "x = data_x[0]\n",
    "\n",
    "# 実際の計算\n",
    "a1 = np.dot(x, W1) + b1\n",
    "h = sigmoid(a1)\n",
    "\n",
    "a2 = np.dot(h, w2) + b2\n",
    "y = sigmoid(a2)\n",
    "\n",
    "# 結果レポート\n",
    "print(\"欠席率 {:.02f}、課題提出率 {:.02f}\".format(x[0], x[1]))\n",
    "print(\"予想合格率： {:.03f}\".format(y))"
   ]
  },
  {
   "cell_type": "code",
   "execution_count": null,
   "metadata": {
    "scrolled": true
   },
   "outputs": [],
   "source": [
    "# パラメータの準備\n",
    "W1 = np.array([[-1.682, -0.296, -1.660], \n",
    "               [1.522, 0.278, 1.454]], dtype=np.float32)\n",
    "b1 = np.array([-0.153, -0.039, -0.138], dtype=np.float32)\n",
    "\n",
    "w2 = np.array([2.003, 0.055, 1.939], dtype=np.float32)\n",
    "b2 = np.array(-1.571, dtype=np.float32)\n",
    "\n",
    "# 実際の計算\n",
    "a1 = np.dot(data_x, W1) + b1\n",
    "h = sigmoid(a1)\n",
    "\n",
    "a2 = np.dot(h, w2) + b2\n",
    "y = sigmoid(a2)\n",
    "\n",
    "# 結果レポート\n",
    "report(y, 10)"
   ]
  },
  {
   "cell_type": "code",
   "execution_count": null,
   "metadata": {
    "collapsed": true
   },
   "outputs": [],
   "source": []
  },
  {
   "cell_type": "code",
   "execution_count": null,
   "metadata": {
    "collapsed": true
   },
   "outputs": [],
   "source": [
    "# 2つの中間層を持つネットワーク\n",
    "# 入力変数 2要素 → 4要素の中間層(h2) → 3要素の中間層(h3) → 予想合格率"
   ]
  },
  {
   "cell_type": "code",
   "execution_count": null,
   "metadata": {},
   "outputs": [],
   "source": [
    "# パラメータの準備\n",
    "W1 = np.array([[2.942, -1.481, 3.788, 4.373],\n",
    "               [-3.034, 0.525, -3.858, -4.394]], dtype=np.float32)\n",
    "b1 = np.array([-0.926, -0.741, -0.971, -1.061], dtype=np.float32)\n",
    "\n",
    "W2 = np.array([[-1.693, -1.215, -1.773],\n",
    "               [0.564, 0.015, 1.096],\n",
    "               [-2.140, -1.480, -2.469],\n",
    "               [-2.448, -1.701, -2.964]], dtype=np.float32)\n",
    "b2 = np.array([0.638, -0.155, 1.929], dtype=np.float32)\n",
    "\n",
    "w3 = np.array([2.455, 1.736, 3.030], dtype=np.float32)\n",
    "b3 = np.array(-2.009, dtype=np.float32)\n",
    "\n",
    "# 実際の計算\n",
    "a1 = np.dot(data_x, W1) + b1\n",
    "h2 = sigmoid(a1)\n",
    "\n",
    "a2 = # （このコメントを置き換えて、式を記入してください）\n",
    "h3 = # （このコメントを置き換えて、式を記入してください）\n",
    "\n",
    "a3 = # （このコメントを置き換えて、式を記入してください）\n",
    "y = # （このコメントを置き換えて、式を記入してください）\n",
    "\n",
    "# 結果レポート\n",
    "report(y, 10)"
   ]
  },
  {
   "cell_type": "code",
   "execution_count": null,
   "metadata": {
    "collapsed": true
   },
   "outputs": [],
   "source": []
  }
 ],
 "metadata": {
  "kernelspec": {
   "display_name": "Python 3",
   "language": "python",
   "name": "python3"
  },
  "language_info": {
   "codemirror_mode": {
    "name": "ipython",
    "version": 3
   },
   "file_extension": ".py",
   "mimetype": "text/x-python",
   "name": "python",
   "nbconvert_exporter": "python",
   "pygments_lexer": "ipython3",
   "version": "3.6.1"
  }
 },
 "nbformat": 4,
 "nbformat_minor": 2
}
