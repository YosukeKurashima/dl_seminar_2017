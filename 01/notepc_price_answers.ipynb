{
 "cells": [
  {
   "cell_type": "code",
   "execution_count": null,
   "metadata": {
    "collapsed": true
   },
   "outputs": [],
   "source": [
    "import numpy as np\n",
    "import pickle\n",
    "import matplotlib.pyplot as plt"
   ]
  },
  {
   "cell_type": "code",
   "execution_count": null,
   "metadata": {
    "collapsed": true
   },
   "outputs": [],
   "source": [
    "%matplotlib inline"
   ]
  },
  {
   "cell_type": "code",
   "execution_count": null,
   "metadata": {},
   "outputs": [],
   "source": [
    "# データ読み込み\n",
    "notepc_data = pickle.load(open(\"notepc_data.pkl\", \"br\"))\n",
    "\n",
    "# カラム\n",
    "# 0: price\n",
    "# 1: num_of_cores\n",
    "# 2: clock\n",
    "# 3: memory\n",
    "# 4: disk\n",
    "# 5: weight\n",
    "# 6: months"
   ]
  },
  {
   "cell_type": "code",
   "execution_count": null,
   "metadata": {},
   "outputs": [],
   "source": [
    "notepc_data"
   ]
  },
  {
   "cell_type": "code",
   "execution_count": null,
   "metadata": {},
   "outputs": [],
   "source": [
    "# データのサイズ・形は？\n",
    "notepc_data.shape"
   ]
  },
  {
   "cell_type": "code",
   "execution_count": null,
   "metadata": {
    "collapsed": true
   },
   "outputs": [],
   "source": [
    "# 値段 (prices) の列を取り出す\n",
    "price = notepc_data[:, 0]"
   ]
  },
  {
   "cell_type": "code",
   "execution_count": null,
   "metadata": {},
   "outputs": [],
   "source": [
    "price"
   ]
  },
  {
   "cell_type": "code",
   "execution_count": null,
   "metadata": {
    "collapsed": true
   },
   "outputs": [],
   "source": [
    "# 入力変数（値段以外）の列を取り出す\n",
    "data_x = notepc_data[:, 1:]"
   ]
  },
  {
   "cell_type": "code",
   "execution_count": null,
   "metadata": {},
   "outputs": [],
   "source": [
    "data_x[:3]"
   ]
  },
  {
   "cell_type": "code",
   "execution_count": null,
   "metadata": {
    "collapsed": true
   },
   "outputs": [],
   "source": [
    "# クロック数（clock, カラム 2）だけ取り出す\n",
    "clock = notepc_data[:, 2]"
   ]
  },
  {
   "cell_type": "code",
   "execution_count": null,
   "metadata": {},
   "outputs": [],
   "source": [
    "clock[:3]"
   ]
  },
  {
   "cell_type": "code",
   "execution_count": null,
   "metadata": {
    "collapsed": true
   },
   "outputs": [],
   "source": [
    "# クロック数とメモリ容量を取り出す\n",
    "clock_memory = notepc_data[:, 2:4]"
   ]
  },
  {
   "cell_type": "code",
   "execution_count": null,
   "metadata": {},
   "outputs": [],
   "source": [
    "clock_memory[:3]"
   ]
  },
  {
   "cell_type": "code",
   "execution_count": null,
   "metadata": {},
   "outputs": [],
   "source": [
    "# 散布図プロット\n",
    "plt.scatter(clock, price)"
   ]
  },
  {
   "cell_type": "code",
   "execution_count": null,
   "metadata": {
    "collapsed": true
   },
   "outputs": [],
   "source": [
    "# モデルの計算対象とする 入力変数\n",
    "x = np.linspace(1.0, 3.0, 21)"
   ]
  },
  {
   "cell_type": "code",
   "execution_count": null,
   "metadata": {},
   "outputs": [],
   "source": [
    "x"
   ]
  },
  {
   "cell_type": "code",
   "execution_count": null,
   "metadata": {},
   "outputs": [],
   "source": [
    "# 適当なモデル\n",
    "price_pred = 20000. * x + 30000."
   ]
  },
  {
   "cell_type": "code",
   "execution_count": null,
   "metadata": {},
   "outputs": [],
   "source": [
    "plt.scatter(clock, price)\n",
    "plt.plot(x, price_pred, color=\"red\")"
   ]
  },
  {
   "cell_type": "code",
   "execution_count": null,
   "metadata": {
    "collapsed": true
   },
   "outputs": [],
   "source": []
  },
  {
   "cell_type": "code",
   "execution_count": null,
   "metadata": {
    "collapsed": true
   },
   "outputs": [],
   "source": [
    "# データに基づく係数\n",
    "price_pred = 119334. * x - 120506"
   ]
  },
  {
   "cell_type": "code",
   "execution_count": null,
   "metadata": {},
   "outputs": [],
   "source": [
    "plt.scatter(clock, price)\n",
    "plt.plot(x, price_pred, color=\"red\")"
   ]
  },
  {
   "cell_type": "code",
   "execution_count": null,
   "metadata": {
    "collapsed": true
   },
   "outputs": [],
   "source": []
  },
  {
   "cell_type": "code",
   "execution_count": null,
   "metadata": {},
   "outputs": [],
   "source": [
    "# 以下の係数を使い、price_pred_2 = w2 * x^2 + w1 * x + b で予測\n",
    "# w2: 105885.\n",
    "# w1: -315584.\n",
    "# b: 287738.\n",
    "\n",
    "x2 = np.stack([x ** 2., x], axis=1)\n",
    "w2 = np.array([105885., -315584.], dtype=np.float32)\n",
    "b = np.array(287738., dtype=np.float32)\n",
    "\n",
    "price_pred_2 = np.dot(x2, w2) + b"
   ]
  },
  {
   "cell_type": "code",
   "execution_count": null,
   "metadata": {},
   "outputs": [],
   "source": [
    "plt.scatter(clock, price)\n",
    "plt.plot(x, price_pred_2, color=\"red\")"
   ]
  },
  {
   "cell_type": "code",
   "execution_count": null,
   "metadata": {
    "collapsed": true
   },
   "outputs": [],
   "source": []
  },
  {
   "cell_type": "code",
   "execution_count": null,
   "metadata": {
    "collapsed": true
   },
   "outputs": [],
   "source": [
    "# 以下の係数を使い、price_pred_3 = w3 * x^3 + w2 * x^2 + w1 * x + b で予測\n",
    "# w3: 102021.\n",
    "# w2: -535402.\n",
    "# w1: 964848.\n",
    "# b: -508880.\n",
    "\n",
    "x3 = np.stack([x ** 3., x ** 2., x], axis=1)\n",
    "w3 = np.array([102021., -535402., 964848.])\n",
    "b = -508880.\n",
    "price_pred_3 = np.dot(x3, w3) + b"
   ]
  },
  {
   "cell_type": "code",
   "execution_count": null,
   "metadata": {},
   "outputs": [],
   "source": [
    "plt.scatter(clock, price)\n",
    "plt.plot(x, price_pred_3, color=\"red\")"
   ]
  },
  {
   "cell_type": "code",
   "execution_count": null,
   "metadata": {
    "collapsed": true
   },
   "outputs": [],
   "source": []
  },
  {
   "cell_type": "code",
   "execution_count": null,
   "metadata": {},
   "outputs": [],
   "source": [
    "# 1件目のデータのclock\n",
    "clock[0]"
   ]
  },
  {
   "cell_type": "code",
   "execution_count": null,
   "metadata": {},
   "outputs": [],
   "source": [
    "# 1つのデータポイントの予測値\n",
    "price_pred = 119334. * clock[0] - 120506\n",
    "\n",
    "print(\"予測： {:>6}\".format(int(price_pred)))\n",
    "print(\"実際： {:>6}\".format(int(price[0])))"
   ]
  },
  {
   "cell_type": "code",
   "execution_count": null,
   "metadata": {},
   "outputs": [],
   "source": [
    "# 全てのデータポイントの予測値\n",
    "\n",
    "price_pred = 119334. * clock - 120506\n",
    "\n",
    "for y, t in zip(price_pred, price):\n",
    "    print(\"予測： {:>6}、実際： {:>6}\".format(int(y), int(t)))\n",
    "    \n",
    "cost = 0.5 * np.sum((price_pred - price) ** 2.) / len(clock)\n",
    "print(\"\")\n",
    "print(\"誤差： {}\".format(int(cost)))"
   ]
  },
  {
   "cell_type": "code",
   "execution_count": null,
   "metadata": {
    "collapsed": true
   },
   "outputs": [],
   "source": []
  },
  {
   "cell_type": "code",
   "execution_count": null,
   "metadata": {},
   "outputs": [],
   "source": [
    "# 1件目の clock, memory\n",
    "clock_memory[0]"
   ]
  },
  {
   "cell_type": "code",
   "execution_count": null,
   "metadata": {},
   "outputs": [],
   "source": [
    "# 以下の係数を使い、price_pred = w0 * clock + w1 * memory + b で予測\n",
    "# w0: 76896.\n",
    "# w1: 5484.\n",
    "# b: -77242.\n",
    "\n",
    "w = np.array([76896., 5484.], dtype=np.float32)\n",
    "b = np.array(-77242., dtype=np.float32)\n",
    "\n",
    "y = np.dot(clock_memory[0], w) + b\n",
    "\n",
    "print(\"予測： {:>6}\".format(int(y)))\n",
    "print(\"実際： {:>6}\".format(int(price[0])))"
   ]
  },
  {
   "cell_type": "code",
   "execution_count": null,
   "metadata": {},
   "outputs": [],
   "source": [
    "# 全ての clock_memoryのデータポイントについて まとめて計算するには\n",
    "\n",
    "w = np.array([76896., 5484.], dtype=np.float32)\n",
    "b = np.array(-77242., dtype=np.float32)\n",
    "\n",
    "price_pred = np.dot(clock_memory, w) + b\n",
    "\n",
    "for y, t in zip(price_pred, price):\n",
    "    print(\"予測： {:>6}、実際： {:>6}\".format(int(y), int(t)))\n",
    "    \n",
    "cost = 0.5 * np.sum((price_pred - price) ** 2.) / len(clock_memory)\n",
    "print(\"\")\n",
    "print(\"誤差： {:>6}\".format(int(cost)))"
   ]
  },
  {
   "cell_type": "code",
   "execution_count": null,
   "metadata": {
    "collapsed": true
   },
   "outputs": [],
   "source": []
  },
  {
   "cell_type": "code",
   "execution_count": null,
   "metadata": {
    "collapsed": true
   },
   "outputs": [],
   "source": [
    "# 1件目の入力変数 全て（num_of_cores, clock, memory, disk, weight, months）"
   ]
  },
  {
   "cell_type": "code",
   "execution_count": null,
   "metadata": {},
   "outputs": [],
   "source": [
    "data_x[0]"
   ]
  },
  {
   "cell_type": "code",
   "execution_count": null,
   "metadata": {},
   "outputs": [],
   "source": [
    "# 以下の係数を使い、\n",
    "#   price_pred = w0 * num_of_cores + w1 * clock + w2 * memory\n",
    "#    + w3 * disk + w4 * weight + w5 * months\n",
    "# で 1件目について予測\n",
    "# \n",
    "# w0: 23596.\n",
    "# w1: 58164.\n",
    "# w2: 2491.\n",
    "# w3: 61.74\n",
    "# w4: -20707.\n",
    "# w5: 763.5\n",
    "# b: -61109.\n",
    "\n",
    "w = np.array([23596., 58164., 2491., 61.74, -20707., 763.5], dtype=np.float32)\n",
    "b = np.array(-61109., dtype=np.float32)\n",
    "\n",
    "price_pred = np.dot(data_x[0], w) + b\n",
    "\n",
    "print(\"予測： {:>6}\".format(int(price_pred)))\n",
    "print(\"実際： {:>6}\".format(int(price[0])))"
   ]
  },
  {
   "cell_type": "code",
   "execution_count": null,
   "metadata": {},
   "outputs": [],
   "source": [
    "# 全ての data_x のデータポイントについて まとめて計算するには\n",
    "\n",
    "w = np.array([23596., 58164., 2491., 61.74, -20707., 763.5], dtype=np.float32)\n",
    "b = np.array(-61109., dtype=np.float32)\n",
    "\n",
    "price_pred = np.dot(data_x, w) + b\n",
    "\n",
    "for y, t in zip(price_pred, price):\n",
    "    print(\"予測： {:>6}、実際： {:>6}\".format(int(y), int(t)))\n",
    "    \n",
    "cost = 0.5 * np.sum((price_pred - price) ** 2.) / len(data_x)\n",
    "print(\"\")\n",
    "print(\"誤差： {:>6}\".format(int(cost)))"
   ]
  },
  {
   "cell_type": "code",
   "execution_count": null,
   "metadata": {
    "collapsed": true
   },
   "outputs": [],
   "source": []
  }
 ],
 "metadata": {
  "kernelspec": {
   "display_name": "Python 3",
   "language": "python",
   "name": "python3"
  },
  "language_info": {
   "codemirror_mode": {
    "name": "ipython",
    "version": 3
   },
   "file_extension": ".py",
   "mimetype": "text/x-python",
   "name": "python",
   "nbconvert_exporter": "python",
   "pygments_lexer": "ipython3",
   "version": "3.6.1"
  }
 },
 "nbformat": 4,
 "nbformat_minor": 2
}
