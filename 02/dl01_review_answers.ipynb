{
 "cells": [
  {
   "cell_type": "code",
   "execution_count": null,
   "metadata": {
    "collapsed": true
   },
   "outputs": [],
   "source": [
    "import numpy as np\n",
    "import matplotlib.pyplot as plt"
   ]
  },
  {
   "cell_type": "code",
   "execution_count": null,
   "metadata": {
    "collapsed": true
   },
   "outputs": [],
   "source": [
    "%matplotlib inline"
   ]
  },
  {
   "cell_type": "markdown",
   "metadata": {},
   "source": [
    "## numpyの操作 復習"
   ]
  },
  {
   "cell_type": "code",
   "execution_count": null,
   "metadata": {
    "collapsed": true
   },
   "outputs": [],
   "source": [
    "# 同じ要素数のベクトルを2つ、作ってみる\n",
    "a = np.array([1, 2, 3], dtype=np.float32)"
   ]
  },
  {
   "cell_type": "code",
   "execution_count": null,
   "metadata": {
    "collapsed": true
   },
   "outputs": [],
   "source": [
    "b = np.array([0, 1, 2], dtype=np.float32)"
   ]
  },
  {
   "cell_type": "code",
   "execution_count": null,
   "metadata": {},
   "outputs": [],
   "source": [
    "# 2つを足し算\n",
    "a + b"
   ]
  },
  {
   "cell_type": "code",
   "execution_count": null,
   "metadata": {},
   "outputs": [],
   "source": [
    "# 2つを要素毎に掛け算\n",
    "a * b"
   ]
  },
  {
   "cell_type": "code",
   "execution_count": null,
   "metadata": {},
   "outputs": [],
   "source": [
    "# 内積\n",
    "np.dot(a, b)"
   ]
  },
  {
   "cell_type": "code",
   "execution_count": null,
   "metadata": {},
   "outputs": [],
   "source": [
    "a.dot(b)"
   ]
  },
  {
   "cell_type": "code",
   "execution_count": null,
   "metadata": {},
   "outputs": [],
   "source": [
    "# 行列を1つ 作ってみる（3×2 など）\n",
    "m = np.array([[1, 2], [2, 3], [3, 4]], dtype=np.float32)\n",
    "m"
   ]
  },
  {
   "cell_type": "code",
   "execution_count": null,
   "metadata": {},
   "outputs": [],
   "source": [
    "# 右下隅の要素を表示\n",
    "m[2, 1]"
   ]
  },
  {
   "cell_type": "code",
   "execution_count": null,
   "metadata": {},
   "outputs": [],
   "source": [
    "# 1行目だけ表示\n",
    "m[0, :]"
   ]
  },
  {
   "cell_type": "code",
   "execution_count": null,
   "metadata": {},
   "outputs": [],
   "source": [
    "# 1列目だけ表示\n",
    "m[:, 0]"
   ]
  },
  {
   "cell_type": "code",
   "execution_count": null,
   "metadata": {},
   "outputs": [],
   "source": [
    "# shapeは？\n",
    "m.shape"
   ]
  },
  {
   "cell_type": "code",
   "execution_count": null,
   "metadata": {},
   "outputs": [],
   "source": [
    "# 全要素数は？\n",
    "m.size"
   ]
  },
  {
   "cell_type": "code",
   "execution_count": null,
   "metadata": {},
   "outputs": [],
   "source": [
    "# 軸の数は？\n",
    "m.ndim"
   ]
  },
  {
   "cell_type": "code",
   "execution_count": null,
   "metadata": {
    "collapsed": true
   },
   "outputs": [],
   "source": [
    "# 行列 m2を作り、先の mとの積をとってみる（shapeは、mと整合するように決める）"
   ]
  },
  {
   "cell_type": "code",
   "execution_count": null,
   "metadata": {},
   "outputs": [],
   "source": [
    "m2 = np.array([[-2, -1, 0, 1], [1, 1, 1, 1]], dtype=np.float32)\n",
    "m2"
   ]
  },
  {
   "cell_type": "code",
   "execution_count": null,
   "metadata": {},
   "outputs": [],
   "source": [
    "np.dot(m, m2)"
   ]
  },
  {
   "cell_type": "code",
   "execution_count": null,
   "metadata": {
    "collapsed": true
   },
   "outputs": [],
   "source": []
  },
  {
   "cell_type": "markdown",
   "metadata": {},
   "source": [
    "## binary_classification"
   ]
  },
  {
   "cell_type": "code",
   "execution_count": null,
   "metadata": {
    "collapsed": true
   },
   "outputs": [],
   "source": [
    "# データ読み込み\n",
    "data = np.load(open(\"binary_classification_data.npz\", \"br\"))\n",
    "data_x = data[\"input\"]\n",
    "result = data[\"label\"]\n",
    "\n",
    "# data_x： 入力変数\n",
    "#   カラム0： x座標（-4〜4の範囲）\n",
    "#   カラム1： y座標（-4〜4の範囲）\n",
    "# result： 正解ラベル、0 or 1"
   ]
  },
  {
   "cell_type": "code",
   "execution_count": null,
   "metadata": {},
   "outputs": [],
   "source": [
    "# 入力変数のshape\n",
    "data_x.shape"
   ]
  },
  {
   "cell_type": "code",
   "execution_count": null,
   "metadata": {},
   "outputs": [],
   "source": [
    "# 入力変数 最初の20件\n",
    "data_x[:20]"
   ]
  },
  {
   "cell_type": "code",
   "execution_count": null,
   "metadata": {},
   "outputs": [],
   "source": [
    "# 正解ラベルのshape\n",
    "result.shape"
   ]
  },
  {
   "cell_type": "code",
   "execution_count": null,
   "metadata": {},
   "outputs": [],
   "source": [
    "# 正解ラベル 最初の20件\n",
    "result[:20]"
   ]
  },
  {
   "cell_type": "code",
   "execution_count": null,
   "metadata": {},
   "outputs": [],
   "source": [
    "# ラベルが \"1\" の件数\n",
    "np.sum(result == 1)"
   ]
  },
  {
   "cell_type": "code",
   "execution_count": null,
   "metadata": {},
   "outputs": [],
   "source": [
    "# データの分布を可視化、青い点が 1、灰色の点が 0\n",
    "pos_x_ar = data_x[result == 1, 0]\n",
    "pos_y_ar = data_x[result == 1, 1]\n",
    "neg_x_ar = data_x[result == 0, 0]\n",
    "neg_y_ar = data_x[result == 0, 1]\n",
    "\n",
    "plt.scatter(pos_x_ar, pos_y_ar)\n",
    "plt.scatter(neg_x_ar, neg_y_ar, c=\"lightgray\")"
   ]
  },
  {
   "cell_type": "code",
   "execution_count": null,
   "metadata": {
    "collapsed": true
   },
   "outputs": [],
   "source": []
  },
  {
   "cell_type": "code",
   "execution_count": null,
   "metadata": {
    "collapsed": true
   },
   "outputs": [],
   "source": [
    "# シグモイド関数を用意\n",
    "def sigmoid(x):\n",
    "    return 1. / (1 + np.exp(-x))"
   ]
  },
  {
   "cell_type": "code",
   "execution_count": null,
   "metadata": {
    "collapsed": true
   },
   "outputs": [],
   "source": [
    "# 結果レポート用の関数を用意\n",
    "def report(y, rec_num=10):\n",
    "    cnt = 0\n",
    "    for i, y_val in enumerate(y[:rec_num]):\n",
    "        x = data_x[i]\n",
    "        result_val = result[i]\n",
    "\n",
    "        if y_val > 0.5:\n",
    "            pred = 1\n",
    "        else:\n",
    "            pred = 0\n",
    "\n",
    "        print(\"x {:.03f}、y {:.02f} → 1の確率： {:.03f}、予測： {}, 正解： {}\".format(\n",
    "                x[0], x[1], y_val, pred, result_val))\n",
    "        \n",
    "    print(\"\")\n",
    "    print(\"全体での合致数： {}\".format(np.sum((y > 0.5) == result)))"
   ]
  },
  {
   "cell_type": "code",
   "execution_count": null,
   "metadata": {
    "collapsed": true
   },
   "outputs": [],
   "source": []
  },
  {
   "cell_type": "code",
   "execution_count": null,
   "metadata": {
    "collapsed": true
   },
   "outputs": [],
   "source": [
    "# 3層のニューラルネット、パラメータ\n",
    "W1_list = [[-2.256, -4.61, -7.32, -4.58,  2.41, -4.74], \n",
    "        [4.68, -1.96, -3.16, -2.69, -5.02, -3.25]]\n",
    "b1_list = [-6.52, 16.10, -0.302, 8.94, -2.24, -9.89]\n",
    "w2_list = [-15.22, 16.31, 13.33, -15.15, -15.33, -14.27]\n",
    "b2_scalar = -5.22"
   ]
  },
  {
   "cell_type": "code",
   "execution_count": null,
   "metadata": {
    "scrolled": true
   },
   "outputs": [],
   "source": [
    "# パラメータの準備\n",
    "\n",
    "W1 = np.array(W1_list, dtype=np.float32)\n",
    "b1 = np.array(b1_list, dtype=np.float32)\n",
    "\n",
    "w2 = np.array(w2_list, dtype=np.float32)\n",
    "b2 = np.array(b2, dtype=np.float32)\n",
    "\n",
    "# 実際の計算\n",
    "a1 = np.dot(data_x, W1) + b1\n",
    "h = sigmoid(a1)\n",
    "\n",
    "a2 = np.dot(h, w2) + b2\n",
    "y = sigmoid(a2)\n",
    "\n",
    "# 結果レポート\n",
    "report(y, 20)"
   ]
  },
  {
   "cell_type": "code",
   "execution_count": null,
   "metadata": {},
   "outputs": [],
   "source": []
  },
  {
   "cell_type": "code",
   "execution_count": null,
   "metadata": {},
   "outputs": [],
   "source": [
    "# モデル 1層目のdecision boundaryを可視化\n",
    "\n",
    "x_val = np.linspace(-4, 4, 101)\n",
    "for i in range(6):\n",
    "    a_coef = - W1[0, i] / W1[1, i]\n",
    "    b_coef = - b1[i] / W1[1, i]\n",
    "    y_val = a_coef * x_val + b_coef\n",
    "    plt.plot(x_val, y_val, c=\"#eea29a\", linewidth=3)\n",
    "    \n",
    "plt.scatter(pos_x_ar, pos_y_ar)\n",
    "plt.scatter(neg_x_ar, neg_y_ar, c=\"lightgray\")\n",
    "\n",
    "plt.ylim([-4, 4])"
   ]
  },
  {
   "cell_type": "code",
   "execution_count": null,
   "metadata": {
    "collapsed": true
   },
   "outputs": [],
   "source": []
  }
 ],
 "metadata": {
  "kernelspec": {
   "display_name": "Python 3",
   "language": "python",
   "name": "python3"
  },
  "language_info": {
   "codemirror_mode": {
    "name": "ipython",
    "version": 3
   },
   "file_extension": ".py",
   "mimetype": "text/x-python",
   "name": "python",
   "nbconvert_exporter": "python",
   "pygments_lexer": "ipython3",
   "version": "3.6.1"
  }
 },
 "nbformat": 4,
 "nbformat_minor": 2
}
