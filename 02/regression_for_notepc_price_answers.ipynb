{
 "cells": [
  {
   "cell_type": "code",
   "execution_count": null,
   "metadata": {
    "collapsed": true
   },
   "outputs": [],
   "source": [
    "import pickle\n",
    "import numpy as np\n",
    "import matplotlib.pyplot as plt\n",
    "\n",
    "%matplotlib inline"
   ]
  },
  {
   "cell_type": "code",
   "execution_count": null,
   "metadata": {
    "collapsed": true
   },
   "outputs": [],
   "source": [
    "# データ読み込み\n",
    "notepc_data = pickle.load(open(\"notepc_data.pkl\", \"br\"))\n",
    "\n",
    "# カラム\n",
    "# 0: price\n",
    "# 1: num_of_cores\n",
    "# 2: clock\n",
    "# 3: memory\n",
    "# 4: disk\n",
    "# 5: weight\n",
    "# 6: months"
   ]
  },
  {
   "cell_type": "code",
   "execution_count": null,
   "metadata": {
    "collapsed": true
   },
   "outputs": [],
   "source": [
    "# 実際に使うデータを切り出し\n",
    "price = np.array([t[0] for t in notepc_data], dtype=np.float32)\n",
    "clock = np.array([t[2] for t in notepc_data], dtype=np.float32)"
   ]
  },
  {
   "cell_type": "code",
   "execution_count": null,
   "metadata": {
    "collapsed": true
   },
   "outputs": [],
   "source": [
    "# データ可視化\n",
    "plt.scatter(clock, price)\n",
    "plt.xlabel(\"clock\")\n",
    "plt.ylabel(\"price\")"
   ]
  },
  {
   "cell_type": "code",
   "execution_count": null,
   "metadata": {
    "collapsed": true
   },
   "outputs": [],
   "source": [
    "# モデルのプロット用関数\n",
    "x_val = np.linspace(1., 3.2, 101)\n",
    "\n",
    "def plot(w, b):\n",
    "    plt.plot(x_val, w * x_val + b, color=\"orange\")\n",
    "    plt.scatter(clock, price)\n",
    "    plt.xlabel(\"clock\")\n",
    "    plt.ylabel(\"price\")\n",
    "    plt.ylim([price.min() - 15000, price.max() + 15000])"
   ]
  },
  {
   "cell_type": "code",
   "execution_count": null,
   "metadata": {
    "collapsed": true
   },
   "outputs": [],
   "source": [
    "# 途中経過表示用の関数\n",
    "\n",
    "fmt = \"iter: {:>3d}, cost: {:>11.0f}, w: {:>7.0f}, b: {:>6.0f}\"\n",
    "def report(i, cost, w, b):\n",
    "    cf = float(cost)\n",
    "    wf = float(w)\n",
    "    bf = float(b)\n",
    "    print(fmt.format(i, cost, w, b))"
   ]
  },
  {
   "cell_type": "code",
   "execution_count": null,
   "metadata": {
    "collapsed": true
   },
   "outputs": [],
   "source": [
    "# パラメータの初期値設定、モデル可視化\n",
    "w_cur = -100000\n",
    "b_cur = 200000\n",
    "\n",
    "plot(w_cur, b_cur)"
   ]
  },
  {
   "cell_type": "code",
   "execution_count": null,
   "metadata": {
    "collapsed": true
   },
   "outputs": [],
   "source": [
    "# レコード数 定義\n",
    "n = float(price.size)\n",
    "n"
   ]
  },
  {
   "cell_type": "code",
   "execution_count": null,
   "metadata": {
    "collapsed": true
   },
   "outputs": [],
   "source": [
    "# コスト計算用の関数 (1)\n",
    "\n",
    "def calc_cost1(w, b):\n",
    "    cost = 0.\n",
    "    for x, t in zip(clock, price):\n",
    "        y = w * x + b\n",
    "        cost += 0.5 * ((y - t) ** 2.)\n",
    "        \n",
    "    cost /= n\n",
    "    return cost"
   ]
  },
  {
   "cell_type": "code",
   "execution_count": null,
   "metadata": {
    "collapsed": true
   },
   "outputs": [],
   "source": [
    "# コストの wでの微分計算 (1)\n",
    "def w_deriv1(w, b):\n",
    "    deriv = 0.\n",
    "    for x, t in zip(clock, price):\n",
    "        y = w * x + b\n",
    "        deriv += (y - t) * x\n",
    "        \n",
    "    deriv /= n\n",
    "    return deriv\n",
    "\n",
    "# コストの bでの微分計算 (1)\n",
    "def b_deriv1(w, b):\n",
    "    deriv = 0.\n",
    "    for x, t in zip(clock, price):\n",
    "        y = w * x + b\n",
    "        deriv += y - t\n",
    "        \n",
    "    deriv /= n\n",
    "    return deriv"
   ]
  },
  {
   "cell_type": "code",
   "execution_count": null,
   "metadata": {
    "collapsed": true
   },
   "outputs": [],
   "source": [
    "# コスト計算用の関数 (2)\n",
    "\n",
    "def calc_cost2(w, b):\n",
    "    y = w * clock + b\n",
    "    cost = 0.5 * np.sum((y - price) ** 2.)\n",
    "    cost /= n\n",
    "    return cost"
   ]
  },
  {
   "cell_type": "code",
   "execution_count": null,
   "metadata": {
    "collapsed": true
   },
   "outputs": [],
   "source": [
    "# コストの wでの微分計算 (2)\n",
    "def w_deriv2(w, b):\n",
    "    y = w * clock + b\n",
    "    deriv = np.sum((y - price) * clock) / n\n",
    "    return deriv\n",
    "\n",
    "# コストの bでの微分計算 (2)\n",
    "def b_deriv2(w, b):\n",
    "    y = w * clock + b\n",
    "    deriv = np.sum(y - price) / n\n",
    "    return deriv"
   ]
  },
  {
   "cell_type": "code",
   "execution_count": null,
   "metadata": {
    "collapsed": true
   },
   "outputs": [],
   "source": [
    "# 実際の計算\n",
    "w_cur = -100000\n",
    "b_cur = 200000\n",
    "\n",
    "alpha = 0.1\n",
    "history = list()\n",
    "\n",
    "for i in range(1000):\n",
    "    # 現状のコスト値を計算、記録\n",
    "    cost = calc_cost1(w_cur, b_cur)\n",
    "    history.append((cost, w_cur, b_cur))\n",
    "    \n",
    "    # 進捗モニタリング\n",
    "    report(i, cost, w_cur, b_cur)\n",
    "\n",
    "    # パラメータ更新\n",
    "    w_new = w_cur - alpha * w_deriv1(w_cur, b_cur)\n",
    "    b_new = b_cur - alpha * b_deriv1(w_cur, b_cur)\n",
    "    \n",
    "    w_cur = w_new\n",
    "    b_cur = b_new"
   ]
  },
  {
   "cell_type": "code",
   "execution_count": null,
   "metadata": {
    "collapsed": true
   },
   "outputs": [],
   "source": [
    "# 結果として得られたモデルの可視化\n",
    "plot(w_cur, b_cur)"
   ]
  },
  {
   "cell_type": "code",
   "execution_count": null,
   "metadata": {
    "collapsed": true
   },
   "outputs": [],
   "source": [
    "# 学習曲線\n",
    "plt.plot([t[0] for t in history])\n",
    "plt.xlabel(\"iterations\")\n",
    "plt.ylabel(\"cost\")"
   ]
  },
  {
   "cell_type": "code",
   "execution_count": null,
   "metadata": {
    "collapsed": true
   },
   "outputs": [],
   "source": []
  },
  {
   "cell_type": "code",
   "execution_count": null,
   "metadata": {
    "collapsed": true
   },
   "outputs": [],
   "source": []
  },
  {
   "cell_type": "code",
   "execution_count": null,
   "metadata": {
    "collapsed": true
   },
   "outputs": [],
   "source": []
  },
  {
   "cell_type": "code",
   "execution_count": null,
   "metadata": {
    "collapsed": true
   },
   "outputs": [],
   "source": [
    "# 途中経過の可視化"
   ]
  },
  {
   "cell_type": "code",
   "execution_count": null,
   "metadata": {
    "collapsed": true
   },
   "outputs": [],
   "source": [
    "# 表示に必要な諸々の初期設定\n",
    "grid_n = 201\n",
    "w_ls = np.linspace(-150000, 150000, grid_n)\n",
    "b_ls = np.linspace(-300000, 300000, grid_n)\n",
    " \n",
    "w_grid, b_grid = np.meshgrid(w_ls, b_ls)\n",
    "cost_v_func = np.vectorize(calc_cost2)\n",
    "y_grid = cost_v_func(w_grid, b_grid)\n",
    "\n",
    "levels = list()\n",
    "step = 50000000\n",
    "v = 1300000000\n",
    "for i in range(20):\n",
    "    levels.append(v)\n",
    "    v = v + step\n",
    "    step *= 2"
   ]
  },
  {
   "cell_type": "code",
   "execution_count": null,
   "metadata": {
    "collapsed": true
   },
   "outputs": [],
   "source": [
    "def visualize_state(h):\n",
    "    itr, w, b = h\n",
    "    plt.figure(figsize=(12, 5))\n",
    "    plt.subplot(1, 2, 1)\n",
    "    plt.contour(w_grid, b_grid, y_grid, levels=levels, colors=[\"lightgray\"]);\n",
    "    plt.scatter([w], [b], marker=\"x\", color=\"r\", s=48)\n",
    "    plt.xlabel(\"w\")\n",
    "    plt.ylabel(\"b\")\n",
    "    \n",
    "    plt.subplot(1, 2, 2)\n",
    "    plot(w, b)"
   ]
  },
  {
   "cell_type": "code",
   "execution_count": null,
   "metadata": {
    "collapsed": true
   },
   "outputs": [],
   "source": [
    "visualize_state(history[0])"
   ]
  },
  {
   "cell_type": "code",
   "execution_count": null,
   "metadata": {
    "collapsed": true
   },
   "outputs": [],
   "source": [
    "visualize_state(history[1])"
   ]
  },
  {
   "cell_type": "code",
   "execution_count": null,
   "metadata": {
    "collapsed": true
   },
   "outputs": [],
   "source": [
    "visualize_state(history[3])"
   ]
  },
  {
   "cell_type": "code",
   "execution_count": null,
   "metadata": {
    "collapsed": true
   },
   "outputs": [],
   "source": [
    "visualize_state(history[10])"
   ]
  },
  {
   "cell_type": "code",
   "execution_count": null,
   "metadata": {
    "collapsed": true
   },
   "outputs": [],
   "source": [
    "visualize_state(history[20])"
   ]
  },
  {
   "cell_type": "code",
   "execution_count": null,
   "metadata": {
    "collapsed": true
   },
   "outputs": [],
   "source": [
    "visualize_state(history[50])"
   ]
  },
  {
   "cell_type": "code",
   "execution_count": null,
   "metadata": {
    "collapsed": true
   },
   "outputs": [],
   "source": [
    "visualize_state(history[100])"
   ]
  },
  {
   "cell_type": "code",
   "execution_count": null,
   "metadata": {
    "collapsed": true
   },
   "outputs": [],
   "source": [
    "visualize_state(history[200])"
   ]
  },
  {
   "cell_type": "code",
   "execution_count": null,
   "metadata": {
    "collapsed": true
   },
   "outputs": [],
   "source": [
    "visualize_state(history[500])"
   ]
  },
  {
   "cell_type": "code",
   "execution_count": null,
   "metadata": {
    "collapsed": true
   },
   "outputs": [],
   "source": [
    "visualize_state(history[999])"
   ]
  },
  {
   "cell_type": "code",
   "execution_count": null,
   "metadata": {
    "collapsed": true
   },
   "outputs": [],
   "source": []
  }
 ],
 "metadata": {
  "kernelspec": {
   "display_name": "Python 3",
   "language": "python",
   "name": "python3"
  },
  "language_info": {
   "codemirror_mode": {
    "name": "ipython",
    "version": 3
   },
   "file_extension": ".py",
   "mimetype": "text/x-python",
   "name": "python",
   "nbconvert_exporter": "python",
   "pygments_lexer": "ipython3",
   "version": "3.6.1"
  }
 },
 "nbformat": 4,
 "nbformat_minor": 2
}
