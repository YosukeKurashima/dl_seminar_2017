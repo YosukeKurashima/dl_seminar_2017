{
 "cells": [
  {
   "cell_type": "code",
   "execution_count": null,
   "metadata": {
    "collapsed": true
   },
   "outputs": [],
   "source": [
    "import pickle\n",
    "import numpy as np\n",
    "import matplotlib.pyplot as plt\n",
    "\n",
    "%matplotlib inline"
   ]
  },
  {
   "cell_type": "code",
   "execution_count": null,
   "metadata": {
    "collapsed": true
   },
   "outputs": [],
   "source": [
    "# データ読み込み\n",
    "notepc_data = pickle.load(open(\"notepc_data.pkl\", \"br\"))\n",
    "\n",
    "# カラム\n",
    "# 0: price\n",
    "# 1: num_of_cores\n",
    "# 2: clock\n",
    "# 3: memory\n",
    "# 4: disk\n",
    "# 5: weight\n",
    "# 6: months"
   ]
  },
  {
   "cell_type": "code",
   "execution_count": null,
   "metadata": {
    "collapsed": true
   },
   "outputs": [],
   "source": [
    "# 実際に使うデータを切り出し\n",
    "# 価格は 1/100000スケールにて。価格もクロック数も、（ベクトルのままではなく）行列形式に変換\n",
    "price = np.array([t[0] for t in notepc_data], dtype=np.float32) / 100000.\n",
    "price.resize((price.size, 1))\n",
    "clock = np.array([t[2] for t in notepc_data], dtype=np.float32)\n",
    "clock.resize((clock.size, 1))"
   ]
  },
  {
   "cell_type": "code",
   "execution_count": null,
   "metadata": {},
   "outputs": [],
   "source": [
    "# データ可視化\n",
    "plt.scatter(clock, price)\n",
    "plt.xlabel(\"clock\")\n",
    "plt.ylabel(\"price\")"
   ]
  },
  {
   "cell_type": "code",
   "execution_count": null,
   "metadata": {
    "collapsed": true
   },
   "outputs": [],
   "source": [
    "# シグモイド関数を用意\n",
    "def sigmoid(x):\n",
    "    x = np.clip(x, -700, 700)\n",
    "    return 1. / (1 + np.exp(-x))"
   ]
  },
  {
   "cell_type": "code",
   "execution_count": null,
   "metadata": {
    "collapsed": true
   },
   "outputs": [],
   "source": [
    "# モデルを用意\n",
    "def layer1(x, w1, b1):\n",
    "    # 1層目\n",
    "    a1 = np.dot(x, w1) + b1\n",
    "    return sigmoid(a1)\n",
    "\n",
    "def layer2(x, w2, b2):\n",
    "    # 2層目\n",
    "    a2 = np.dot(x, w2.transpose()) + b2\n",
    "    return a2\n",
    "\n",
    "def model(x, w1, b1, w2, b2):\n",
    "    # 1層目\n",
    "    h1 = layer1(x, w1, b1)\n",
    "    \n",
    "    # 2層目\n",
    "    y = layer2(h1, w2, b2)\n",
    "    \n",
    "    return y"
   ]
  },
  {
   "cell_type": "code",
   "execution_count": null,
   "metadata": {
    "collapsed": true
   },
   "outputs": [],
   "source": []
  },
  {
   "cell_type": "code",
   "execution_count": null,
   "metadata": {
    "collapsed": true
   },
   "outputs": [],
   "source": [
    "# モデルのプロット用関数\n",
    "x_val = np.linspace(1., 3.2, 101)\n",
    "x_val.resize((x_val.size, 1))\n",
    "\n",
    "def plot(w1, b1, w2, b2, scale=1.):\n",
    "    y_val = model(x_val, w1, b1, w2, b2)\n",
    "    plt.plot(x_val, y_val * scale, color=\"orange\")\n",
    "    \n",
    "    plt.scatter(clock, price * scale)\n",
    "    plt.xlabel(\"clock\")\n",
    "    plt.ylabel(\"price\")\n",
    "    plt.ylim([(price *scale).min() - 0.15 * scale, (price * scale).max() + 0.15 * scale])"
   ]
  },
  {
   "cell_type": "code",
   "execution_count": null,
   "metadata": {
    "collapsed": true
   },
   "outputs": [],
   "source": []
  },
  {
   "cell_type": "code",
   "execution_count": null,
   "metadata": {},
   "outputs": [],
   "source": [
    "# パラメータの初期値設定、モデル可視化\n",
    "w1 = np.array([[-0.683, -0.833, -0.049]], dtype=np.float32)\n",
    "b1 = np.array([0.499, 0.085, -0.654], dtype=np.float32)\n",
    "w2 = np.array([[246071, 125136, 36801]], dtype=np.float32) / 100000.\n",
    "b2 = np.array([116149], dtype=np.float32) / 100000.\n",
    "\n",
    "plot(w1, b1, w2, b2);"
   ]
  },
  {
   "cell_type": "code",
   "execution_count": null,
   "metadata": {
    "collapsed": true
   },
   "outputs": [],
   "source": []
  },
  {
   "cell_type": "code",
   "execution_count": null,
   "metadata": {
    "collapsed": true
   },
   "outputs": [],
   "source": [
    "# コスト計算用の関数 (1)\n",
    "\n",
    "# レコード数\n",
    "n = float(price.size)\n",
    "\n",
    "def calc_cost1(w1, b1, w2, b2):\n",
    "    cost = 0.\n",
    "    for x, t in zip(clock, price):\n",
    "        y = model(x, w1, b1, w2, b2)\n",
    "        cost += 0.5 * ((y - t) ** 2.)\n",
    "        \n",
    "    cost /= n\n",
    "    return cost[0]"
   ]
  },
  {
   "cell_type": "code",
   "execution_count": null,
   "metadata": {
    "collapsed": true
   },
   "outputs": [],
   "source": [
    "# コスト計算用の関数 (2)\n",
    "\n",
    "def calc_cost2(w1, b1, w2, b2):\n",
    "    # 全てのデータポイントについての予測値 yを求める\n",
    "    y = model(clock, w1, b1, w2, b2)\n",
    "    \n",
    "    # yを使ってコスト計算、結果を返却\n",
    "    cost = 0.5 * np.mean((y - price) ** 2.)\n",
    "    return cost"
   ]
  },
  {
   "cell_type": "code",
   "execution_count": null,
   "metadata": {
    "collapsed": true
   },
   "outputs": [],
   "source": []
  },
  {
   "cell_type": "code",
   "execution_count": null,
   "metadata": {},
   "outputs": [],
   "source": [
    "# 実際の計算\n",
    "w1 = np.array([[-0.683, -0.833, -0.049]], dtype=np.float32)\n",
    "b1 = np.array([0.499, 0.085, -0.654], dtype=np.float32)\n",
    "w2 = np.array([[246071, 125136, 36801]], dtype=np.float32) / 100000.\n",
    "b2 = np.array([116149], dtype=np.float32) / 100000.\n",
    "\n",
    "alpha = 0.3\n",
    "history = list()\n",
    "\n",
    "for i in range(50000):\n",
    "    # 現状のコスト値を計算、記録\n",
    "    # （calc_cost2が実装できていれば そちらへ切り替え）\n",
    "    cost = calc_cost1(w1, b1, w2, b2)\n",
    "    history.append((cost))\n",
    "    \n",
    "    # 進捗モニタリング\n",
    "    if i % 1000 == 0:\n",
    "        print(\"{:>6d}, cost: {:7.5f}\".format(i, cost))\n",
    "\n",
    "    # 実際の学習\n",
    "    \n",
    "    # == 2層目 ==\n",
    "    # errorを出しておく\n",
    "    y = model(clock, w1, b1, w2, b2)\n",
    "    e2 = y - price\n",
    "    \n",
    "    # jを w2、bで微分したものをそれぞれ求める\n",
    "    j_w2_deriv = e2 * layer1(clock, w1, b1)\n",
    "    j_b2_deriv = e2\n",
    "    \n",
    "    # 新しいパラメータ w2_new、b2_newを計算\n",
    "    w2_new = w2 - alpha * np.mean(j_w2_deriv, axis=0, keepdims=True)\n",
    "    b2_new = b2 - alpha * np.mean(j_b2_deriv, axis=0)\n",
    "    \n",
    "    # == 1層目 ==\n",
    "    # errorを出しておく\n",
    "    h1 = layer1(clock, w1, b1)\n",
    "    e1 = e2 * w1 * h1 * (1. - h1)\n",
    "    \n",
    "    # jを w1、b1で微分したものをそれぞれ求める\n",
    "    j_w1_deriv = e1 * clock\n",
    "    j_b1_deriv = e1\n",
    "    \n",
    "    # 新しいパラメータ w1_new、b1_newを計算\n",
    "    w1_new = w1 - alpha * np.mean(j_w1_deriv, axis=0, keepdims=True)\n",
    "    b1_new = b1 - alpha * np.mean(j_b1_deriv, axis=0)\n",
    "    \n",
    "    # 新旧パラメータをまとめて入れ替え\n",
    "    w2 = w2_new\n",
    "    b2 = b2_new\n",
    "    w1 = w1_new\n",
    "    b1 = b1_new"
   ]
  },
  {
   "cell_type": "code",
   "execution_count": null,
   "metadata": {},
   "outputs": [],
   "source": [
    "# 結果として得られたモデルの可視化\n",
    "plot(w1, b1, w2, b2, scale=100000)"
   ]
  },
  {
   "cell_type": "code",
   "execution_count": null,
   "metadata": {},
   "outputs": [],
   "source": [
    "# 学習曲線\n",
    "plt.plot([t for t in history])\n",
    "plt.xlabel(\"iterations\")\n",
    "plt.ylabel(\"cost\")"
   ]
  },
  {
   "cell_type": "code",
   "execution_count": null,
   "metadata": {
    "collapsed": true
   },
   "outputs": [],
   "source": []
  },
  {
   "cell_type": "code",
   "execution_count": null,
   "metadata": {
    "collapsed": true
   },
   "outputs": [],
   "source": [
    "# iteration 50,000回で動かせたら、、200,000回ではどのような結果になるか？"
   ]
  },
  {
   "cell_type": "code",
   "execution_count": null,
   "metadata": {
    "collapsed": true
   },
   "outputs": [],
   "source": []
  },
  {
   "cell_type": "code",
   "execution_count": null,
   "metadata": {
    "collapsed": true
   },
   "outputs": [],
   "source": []
  },
  {
   "cell_type": "markdown",
   "metadata": {},
   "source": [
    "## keepdimsについて、補足"
   ]
  },
  {
   "cell_type": "code",
   "execution_count": null,
   "metadata": {},
   "outputs": [],
   "source": [
    "# 行列を一つ準備\n",
    "m = np.array([[1, 2, 3], [2, 2, 2]], dtype=np.float32)\n",
    "m"
   ]
  },
  {
   "cell_type": "code",
   "execution_count": null,
   "metadata": {},
   "outputs": [],
   "source": [
    "# 単純に和を取ると、全ての要素の合計、スカラー値\n",
    "np.sum(m)"
   ]
  },
  {
   "cell_type": "code",
   "execution_count": null,
   "metadata": {},
   "outputs": [],
   "source": [
    "# 行方向（タテ方向、axis=0）に和を取る、ということもできる\n",
    "# 結果は 列方向の広がりだけ残り、行ベクトル\n",
    "s1 = np.sum(m, axis=0)\n",
    "s1"
   ]
  },
  {
   "cell_type": "code",
   "execution_count": null,
   "metadata": {},
   "outputs": [],
   "source": [
    "s1.shape"
   ]
  },
  {
   "cell_type": "code",
   "execution_count": null,
   "metadata": {},
   "outputs": [],
   "source": [
    "s1.ndim"
   ]
  },
  {
   "cell_type": "code",
   "execution_count": null,
   "metadata": {},
   "outputs": [],
   "source": [
    "# axis=0で和を取るときに、行方向の軸を保っておきたいことがある\n",
    "#   -> keepdims=True を指定\n",
    "# 言い換えると： ndimは変えずに 指定した方向に和を取る\n",
    "s2 = np.sum(m, axis=0, keepdims=True)\n",
    "s2"
   ]
  },
  {
   "cell_type": "code",
   "execution_count": null,
   "metadata": {},
   "outputs": [],
   "source": [
    "s2.shape"
   ]
  },
  {
   "cell_type": "code",
   "execution_count": null,
   "metadata": {},
   "outputs": [],
   "source": [
    "s2.ndim"
   ]
  },
  {
   "cell_type": "code",
   "execution_count": null,
   "metadata": {
    "collapsed": true
   },
   "outputs": [],
   "source": []
  }
 ],
 "metadata": {
  "kernelspec": {
   "display_name": "Python 3",
   "language": "python",
   "name": "python3"
  },
  "language_info": {
   "codemirror_mode": {
    "name": "ipython",
    "version": 3
   },
   "file_extension": ".py",
   "mimetype": "text/x-python",
   "name": "python",
   "nbconvert_exporter": "python",
   "pygments_lexer": "ipython3",
   "version": "3.6.1"
  }
 },
 "nbformat": 4,
 "nbformat_minor": 2
}
