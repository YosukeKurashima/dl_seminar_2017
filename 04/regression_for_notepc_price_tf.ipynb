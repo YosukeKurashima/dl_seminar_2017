{
 "cells": [
  {
   "cell_type": "code",
   "execution_count": null,
   "metadata": {
    "collapsed": true
   },
   "outputs": [],
   "source": [
    "import tensorflow as tf\n",
    "import pickle\n",
    "import numpy as np\n",
    "import matplotlib.pyplot as plt\n",
    "\n",
    "%matplotlib inline"
   ]
  },
  {
   "cell_type": "code",
   "execution_count": null,
   "metadata": {
    "collapsed": true
   },
   "outputs": [],
   "source": [
    "# データ読み込み\n",
    "notepc_data = pickle.load(open(\"notepc_data.pkl\", \"br\"))\n",
    "\n",
    "# カラム\n",
    "# 0: price\n",
    "# 1: num_of_cores\n",
    "# 2: clock\n",
    "# 3: memory\n",
    "# 4: disk\n",
    "# 5: weight\n",
    "# 6: months"
   ]
  },
  {
   "cell_type": "code",
   "execution_count": null,
   "metadata": {
    "collapsed": true
   },
   "outputs": [],
   "source": [
    "# 実際に使うデータを切り出し\n",
    "# 価格は 1/100000スケールにて。価格もクロック数も、（ベクトルのままではなく）行列形式に変換\n",
    "price = np.array([t[0] for t in notepc_data], dtype=np.float32) / 100000.\n",
    "price.resize((price.size, 1))\n",
    "clock = np.array([t[2] for t in notepc_data], dtype=np.float32)\n",
    "clock.resize((clock.size, 1))"
   ]
  },
  {
   "cell_type": "code",
   "execution_count": null,
   "metadata": {
    "collapsed": true
   },
   "outputs": [],
   "source": [
    "clock.shape"
   ]
  },
  {
   "cell_type": "code",
   "execution_count": null,
   "metadata": {
    "collapsed": true
   },
   "outputs": [],
   "source": [
    "# データ可視化\n",
    "plt.scatter(clock, price)\n",
    "plt.xlabel(\"clock\")\n",
    "plt.ylabel(\"price\")"
   ]
  },
  {
   "cell_type": "code",
   "execution_count": null,
   "metadata": {
    "collapsed": true
   },
   "outputs": [],
   "source": [
    "# パラメータ、データ、モデルを用意\n",
    "\n",
    "# パラメータ初期値\n",
    "w1_ar = np.array([[-0.683, -0.833, -0.049]], dtype=np.float32)\n",
    "b1_ar = np.array([0.499, 0.085, -0.654], dtype=np.float32)\n",
    "w2_ar = np.array([[246071, 125136, 36801]], dtype=np.float32) / 100000.\n",
    "b2_ar = np.array([116149], dtype=np.float32) / 100000.\n",
    "\n",
    "# 上記の値を使い、variable定義\n",
    "w1 = tf.Variable(w1_ar, dtype=tf.float32)\n",
    "b1 = tf.Variable(b1_ar, dtype=tf.float32)\n",
    "w2 = tf.Variable(w2_ar, dtype=tf.float32)\n",
    "b2 = tf.Variable(b2_ar, dtype=tf.float32)\n",
    "\n",
    "# データの入り口、placeholderを x (clock)、t (price) について定義\n",
    "x_ph = tf.placeholder(tf.float32)\n",
    "t_ph = tf.placeholder(tf.float32)\n",
    "\n",
    "\n",
    "# == モデル定義 ==\n",
    "# 1層目\n",
    "h1 = tf.nn.sigmoid(x_ph * w1 + b1)\n",
    "    \n",
    "# 2層目\n",
    "y = tf.matmul(h1, tf.transpose(w2)) + b2\n",
    "\n",
    "# == コスト定義 ==\n",
    "cost = 0.5 * tf.reduce_mean((y - t_ph) ** 2.)\n",
    "\n",
    "# == 学習用のopを定義 ==\n",
    "trainer = tf.train.GradientDescentOptimizer(learning_rate=0.3)\n",
    "train_op = trainer.minimize(cost, var_list=[w1, b1, w2, b2])"
   ]
  },
  {
   "cell_type": "code",
   "execution_count": null,
   "metadata": {
    "collapsed": true
   },
   "outputs": [],
   "source": []
  },
  {
   "cell_type": "code",
   "execution_count": null,
   "metadata": {
    "collapsed": true
   },
   "outputs": [],
   "source": [
    "# モデルのプロット用関数\n",
    "x_val = np.linspace(1., 3.2, 101)\n",
    "x_val.resize((x_val.size, 1))\n",
    "\n",
    "def plot(scale=1.):        \n",
    "    y_val = sess.run(y, feed_dict={x_ph: x_val})\n",
    "    plt.plot(x_val, y_val * scale, color=\"orange\")\n",
    "\n",
    "    plt.scatter(clock, price * scale)\n",
    "    plt.xlabel(\"clock\")\n",
    "    plt.ylabel(\"price\")\n",
    "    plt.ylim([(price *scale).min() - 0.15 * scale, (price * scale).max() + 0.15 * scale])"
   ]
  },
  {
   "cell_type": "code",
   "execution_count": null,
   "metadata": {
    "collapsed": true
   },
   "outputs": [],
   "source": [
    "# モデル可視化\n",
    "\n",
    "with tf.Session() as sess:\n",
    "    sess.run(tf.global_variables_initializer())\n",
    "    plot();"
   ]
  },
  {
   "cell_type": "code",
   "execution_count": null,
   "metadata": {
    "collapsed": true
   },
   "outputs": [],
   "source": [
    "def model_save(sess):\n",
    "    return sess.run([w1, b1, w2, b2])"
   ]
  },
  {
   "cell_type": "code",
   "execution_count": null,
   "metadata": {
    "collapsed": true
   },
   "outputs": [],
   "source": [
    "assigner = tf.placeholder(tf.float32)\n",
    "\n",
    "def load_model(sess, param_list):\n",
    "    sess.run(tf.assign(w1, assigner), feed_dict={assigner: param_list[0]})\n",
    "    sess.run(tf.assign(b1, assigner), feed_dict={assigner: param_list[1]})\n",
    "    sess.run(tf.assign(w2, assigner), feed_dict={assigner: param_list[2]})\n",
    "    sess.run(tf.assign(b2, assigner), feed_dict={assigner: param_list[3]})"
   ]
  },
  {
   "cell_type": "code",
   "execution_count": null,
   "metadata": {
    "collapsed": true
   },
   "outputs": [],
   "source": []
  },
  {
   "cell_type": "code",
   "execution_count": null,
   "metadata": {
    "collapsed": true
   },
   "outputs": [],
   "source": [
    "# 実際の計算\n",
    "history = list()\n",
    "\n",
    "with tf.Session() as sess:\n",
    "    sess.run(tf.global_variables_initializer())\n",
    "    \n",
    "    for i in range(10000):\n",
    "        # 現状のコスト値を計算、記録\n",
    "        fd = {x_ph: clock, t_ph: price}\n",
    "        cost_val = sess.run(cost, feed_dict=fd)\n",
    "        history.append(cost_val)\n",
    "\n",
    "        # 進捗モニタリング\n",
    "        if i % 1000 == 0:\n",
    "            print(\"{:>6d}, cost: {:7.5f}\".format(i, cost_val))\n",
    "\n",
    "        # 学習\n",
    "        sess.run(train_op, feed_dict=fd)\n",
    "        \n",
    "\n",
    "        # ===== original code =====\n",
    "        # 学習\n",
    "\n",
    "        ## == 2層目 ==\n",
    "        ## errorを出しておく\n",
    "        # e2 = y - price\n",
    "\n",
    "        ## jを w2、bで微分したものをそれぞれ求める\n",
    "        # j_w2_deriv = e2 * h1\n",
    "        # j_b2_deriv = e2\n",
    "\n",
    "        ## 新しいパラメータ w2_new、b2_newを計算\n",
    "        # w2_new = w2 - alpha * np.mean(j_w2_deriv, axis=0, keepdims=True)\n",
    "        # b2_new = b2 - alpha * np.mean(j_b2_deriv, axis=0)\n",
    "\n",
    "        ## == 1層目 ==\n",
    "        ## errorを出しておく\n",
    "        # e1 = e2 * w2 * h1 * (1. - h1)\n",
    "\n",
    "        ## jを w1、b1で微分したものをそれぞれ求める\n",
    "        # j_w1_deriv = e1 * clock\n",
    "        # j_b1_deriv = e1\n",
    "\n",
    "        ## 新しいパラメータ w1_new、b1_newを計算\n",
    "        # w1_new = w1 - alpha * np.mean(j_w1_deriv, axis=0, keepdims=True)\n",
    "        # b1_new = b1 - alpha * np.mean(j_b1_deriv, axis=0)\n",
    "\n",
    "        ## 新旧パラメータをまとめて入れ替え\n",
    "        # w2 = w2_new\n",
    "        # b2 = b2_new\n",
    "        # w1 = w1_new\n",
    "        # b1 = b1_new\n",
    "        \n",
    "        \n",
    "    # 結果として得られたモデルの可視化\n",
    "    plot()\n",
    "    \n",
    "    # 結果として得られたモデルの保存\n",
    "    param_list = model_save(sess)"
   ]
  },
  {
   "cell_type": "code",
   "execution_count": null,
   "metadata": {
    "collapsed": true
   },
   "outputs": [],
   "source": [
    "# 学習曲線\n",
    "plt.plot([t for t in history])\n",
    "plt.xlabel(\"iterations\")\n",
    "plt.ylabel(\"cost\")"
   ]
  },
  {
   "cell_type": "code",
   "execution_count": null,
   "metadata": {
    "collapsed": true
   },
   "outputs": [],
   "source": []
  },
  {
   "cell_type": "code",
   "execution_count": null,
   "metadata": {
    "collapsed": true
   },
   "outputs": [],
   "source": [
    "# clock数に対応すうる yの値を全て表示するには？\n",
    "\n",
    "with tf.Session() as sess:\n",
    "    load_model(sess, param_list)\n",
    "    \n",
    "    # yの値の計算\n",
    "    \n",
    "    # 表示\n",
    "    "
   ]
  },
  {
   "cell_type": "code",
   "execution_count": null,
   "metadata": {
    "collapsed": true
   },
   "outputs": [],
   "source": []
  }
 ],
 "metadata": {
  "kernelspec": {
   "display_name": "Python 3",
   "language": "python",
   "name": "python3"
  },
  "language_info": {
   "codemirror_mode": {
    "name": "ipython",
    "version": 3
   },
   "file_extension": ".py",
   "mimetype": "text/x-python",
   "name": "python",
   "nbconvert_exporter": "python",
   "pygments_lexer": "ipython3",
   "version": "3.6.1"
  }
 },
 "nbformat": 4,
 "nbformat_minor": 2
}
