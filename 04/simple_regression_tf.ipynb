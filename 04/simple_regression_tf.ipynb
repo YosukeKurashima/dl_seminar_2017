{
 "cells": [
  {
   "cell_type": "code",
   "execution_count": null,
   "metadata": {
    "collapsed": true
   },
   "outputs": [],
   "source": [
    "import tensorflow as tf\n",
    "import numpy as np\n",
    "import matplotlib.pyplot as plt\n",
    "%matplotlib inline"
   ]
  },
  {
   "cell_type": "markdown",
   "metadata": {},
   "source": [
    "#### simple_regression\n",
    "\n",
    "<img src=\"simple_regr_chart.png\" width=\"300\" style=\"float: left;\">\n",
    "\n",
    "<img src=\"simple_regr_cost.png\" width=\"400\" style=\"float: left;\">\n",
    "\n",
    "<img src=\"simple_regr_op.png\" width=\"400\" style=\"float: left;\">"
   ]
  },
  {
   "cell_type": "markdown",
   "metadata": {},
   "source": []
  },
  {
   "cell_type": "code",
   "execution_count": null,
   "metadata": {
    "collapsed": true
   },
   "outputs": [],
   "source": [
    "# data points（表示用）\n",
    "data = [[0, 1], [1, 1], [2, 2]]\n",
    "data_ar = np.array(data, dtype=np.float32)"
   ]
  },
  {
   "cell_type": "code",
   "execution_count": null,
   "metadata": {
    "collapsed": true
   },
   "outputs": [],
   "source": [
    "# モデルのプロット用関数\n",
    "x_val = np.linspace(-1, 3, 101)\n",
    "def plot(w):\n",
    "    plt.plot(x_val, w * x_val)\n",
    "    plt.scatter(data_ar[:, 0], data_ar[:, 1])\n",
    "    \n",
    "    plt.axhline(0, xmin=-1, xmax=3, c=\"gray\")\n",
    "    plt.axvline(0, ymin=-4, ymax=4, c=\"gray\")\n",
    "    plt.ylim([-4, 4])\n",
    "    \n",
    "    plt.xlabel(\"x\")\n",
    "    plt.ylabel(\"y\")"
   ]
  },
  {
   "cell_type": "code",
   "execution_count": null,
   "metadata": {
    "collapsed": true
   },
   "outputs": [],
   "source": [
    "# 途中経過表示用の関数\n",
    "def report(cost, w):\n",
    "    print(\"cost: {:>6.03f}, w: {:>6.03f}\".format(cost, w))"
   ]
  },
  {
   "cell_type": "code",
   "execution_count": null,
   "metadata": {
    "collapsed": true
   },
   "outputs": [],
   "source": []
  },
  {
   "cell_type": "code",
   "execution_count": null,
   "metadata": {},
   "outputs": [],
   "source": [
    "# パラメータ初期値におけるモデル\n",
    "w = -3\n",
    "plot(w)"
   ]
  },
  {
   "cell_type": "code",
   "execution_count": null,
   "metadata": {},
   "outputs": [],
   "source": [
    "# 実際の計算\n",
    "\n",
    "alpha = 0.1\n",
    "history = list()\n",
    "w_val = 0\n",
    "\n",
    "# 傾きのパラメータ wをvariableとして定義\n",
    "w = tf.Variable(-3, dtype=tf.float32)\n",
    "\n",
    "# wを使ってコストを定義\n",
    "cost = (5. * (w ** 2.) - 10. * w + 6.) / 6.\n",
    "\n",
    "# 学習アルゴリズムを用意、\n",
    "# alphaの値は learning_rateに設定\n",
    "trainer = tf.train.GradientDescentOptimizer(learning_rate=alpha)\n",
    "\n",
    "# 「costを最小化するような パラメータ更新操作」の opを定義、\n",
    "train_op = trainer.minimize(cost, var_list=[w])\n",
    "\n",
    "with tf.Session() as sess:\n",
    "    # variableの初期化\n",
    "    sess.run(tf.global_variables_initializer())\n",
    "    \n",
    "    for i in range(50):\n",
    "        # cost、wの値の取得・レポーティング・記録\n",
    "        # sess.run()にopを複数渡したいときは、listの形にする\n",
    "        cost_val, w_val = sess.run([cost, w])\n",
    "        report(cost_val, w_val)\n",
    "        history.append(cost_val)\n",
    "\n",
    "        # train_opを実行、wを更新\n",
    "        sess.run(train_op)\n",
    "        \n",
    "        # original code:\n",
    "        #   deriv = (5. / 3.) * (w - 1.)\n",
    "        #   w = w - alpha * deriv\n",
    "    \n",
    "report(cost_val, w_val)"
   ]
  },
  {
   "cell_type": "code",
   "execution_count": null,
   "metadata": {},
   "outputs": [],
   "source": [
    "# 結果として得られたモデルの可視化\n",
    "plot(w_val)"
   ]
  },
  {
   "cell_type": "code",
   "execution_count": null,
   "metadata": {},
   "outputs": [],
   "source": [
    "# 学習曲線\n",
    "plt.plot(history)\n",
    "plt.xlabel(\"iterations\")\n",
    "plt.ylabel(\"cost\")"
   ]
  },
  {
   "cell_type": "code",
   "execution_count": null,
   "metadata": {
    "collapsed": true
   },
   "outputs": [],
   "source": []
  },
  {
   "cell_type": "code",
   "execution_count": null,
   "metadata": {
    "collapsed": true
   },
   "outputs": [],
   "source": []
  }
 ],
 "metadata": {
  "kernelspec": {
   "display_name": "Python 3",
   "language": "python",
   "name": "python3"
  },
  "language_info": {
   "codemirror_mode": {
    "name": "ipython",
    "version": 3
   },
   "file_extension": ".py",
   "mimetype": "text/x-python",
   "name": "python",
   "nbconvert_exporter": "python",
   "pygments_lexer": "ipython3",
   "version": "3.6.1"
  }
 },
 "nbformat": 4,
 "nbformat_minor": 2
}
