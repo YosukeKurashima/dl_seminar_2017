{
 "cells": [
  {
   "cell_type": "code",
   "execution_count": null,
   "metadata": {
    "collapsed": true
   },
   "outputs": [],
   "source": [
    "import tensorflow as tf\n",
    "import numpy as np"
   ]
  },
  {
   "cell_type": "markdown",
   "metadata": {},
   "source": [
    "※ 第１回 numpy_tutorial.ipynbと同様の操作を TensorFlowで行います。\n",
    "\n",
    "## arrayを作る\n",
    "#### ベクトル"
   ]
  },
  {
   "cell_type": "code",
   "execution_count": null,
   "metadata": {
    "collapsed": true
   },
   "outputs": [],
   "source": [
    "# 大元のnumpy nd-arrayを定義\n",
    "v_ar = np.array([1, 2, 3], dtype=np.float32)\n",
    "\n",
    "# placeholder\n",
    "v_ph = tf.placeholder(tf.float32)\n",
    "# variable\n",
    "v_var = tf.Variable(v_ar, dtype=tf.float32)"
   ]
  },
  {
   "cell_type": "code",
   "execution_count": null,
   "metadata": {},
   "outputs": [],
   "source": [
    "v_ph.dtype"
   ]
  },
  {
   "cell_type": "code",
   "execution_count": null,
   "metadata": {},
   "outputs": [],
   "source": [
    "v_var.dtype"
   ]
  },
  {
   "cell_type": "code",
   "execution_count": null,
   "metadata": {},
   "outputs": [],
   "source": [
    "# placeholder/tensor版\n",
    "\n",
    "with tf.Session() as sess:\n",
    "    fd = {v_ph: v_ar}\n",
    "    \n",
    "    # 要素の数\n",
    "    size = sess.run(tf.size(v_ph), feed_dict=fd)\n",
    "    \n",
    "    # shape\n",
    "    shape = sess.run(tf.shape(v_ph), feed_dict=fd)\n",
    "    \n",
    "    # ndim、軸の数\n",
    "    rank = sess.run(tf.rank(v_ph), feed_dict=fd)\n",
    "    \n",
    "    # phの値\n",
    "    value = sess.run(v_ph, feed_dict=fd)\n",
    "    \n",
    "    print(\"size -> {}\".format(size))\n",
    "    print(\"shape -> {}\".format(shape))\n",
    "    print(\"rank -> {}\".format(rank))\n",
    "    print(\"v_ph value -> {}\".format(value))"
   ]
  },
  {
   "cell_type": "code",
   "execution_count": null,
   "metadata": {},
   "outputs": [],
   "source": [
    "# variable版\n",
    "\n",
    "with tf.Session() as sess:\n",
    "    # 要素の数\n",
    "    size = sess.run(tf.size(v_var))\n",
    "    \n",
    "    # shape\n",
    "    shape = sess.run(tf.shape(v_var))\n",
    "    \n",
    "    # ndim、軸の数\n",
    "    rank = sess.run(tf.rank(v_var))\n",
    "    \n",
    "    # vの値\n",
    "    sess.run(tf.global_variables_initializer())\n",
    "    value = sess.run(v_var)\n",
    "    \n",
    "    print(\"size -> {}\".format(size))\n",
    "    print(\"shape -> {}\".format(shape))\n",
    "    print(\"rank -> {}\".format(rank))\n",
    "    print(\"v_var value -> {}\".format(value))"
   ]
  },
  {
   "cell_type": "markdown",
   "metadata": {},
   "source": [
    "#### 行列"
   ]
  },
  {
   "cell_type": "code",
   "execution_count": null,
   "metadata": {
    "collapsed": true
   },
   "outputs": [],
   "source": [
    "m_ar = np.array([[1, 2, 3], [4, 5, 6]], dtype=np.float32)\n",
    "\n",
    "# placeholder\n",
    "m_ph = tf.placeholder(tf.float32)\n",
    "# variable\n",
    "m_var = tf.Variable(m_ar, dtype=tf.float32)"
   ]
  },
  {
   "cell_type": "code",
   "execution_count": null,
   "metadata": {},
   "outputs": [],
   "source": [
    "# placeholder/tensor版\n",
    "\n",
    "with tf.Session() as sess:\n",
    "    fd = {m_ph: m_ar}\n",
    "    \n",
    "    # 要素の数\n",
    "    size = sess.run(tf.size(m_ph), feed_dict=fd)\n",
    "    \n",
    "    # shape\n",
    "    shape = sess.run(tf.shape(m_ph), feed_dict=fd)\n",
    "    \n",
    "    # ndim、軸の数\n",
    "    rank = sess.run(tf.rank(m_ph), feed_dict=fd)\n",
    "    \n",
    "    # phの値\n",
    "    value = sess.run(m_ph, feed_dict=fd)\n",
    "    \n",
    "    print(\"size -> {}\".format(size))\n",
    "    print(\"shape -> {}\".format(shape))\n",
    "    print(\"rank -> {}\".format(rank))\n",
    "    print(\"m_ph value -> {}\".format(value))"
   ]
  },
  {
   "cell_type": "code",
   "execution_count": null,
   "metadata": {},
   "outputs": [],
   "source": [
    "# variable版\n",
    "\n",
    "with tf.Session() as sess:\n",
    "    # 要素の数\n",
    "    size = sess.run(tf.size(m_var))\n",
    "    \n",
    "    # shape\n",
    "    shape = sess.run(tf.shape(m_var))\n",
    "    \n",
    "    # ndim、軸の数\n",
    "    rank = sess.run(tf.rank(m_var))\n",
    "    \n",
    "    # phの値\n",
    "    sess.run(tf.global_variables_initializer())\n",
    "    value = sess.run(m_var)\n",
    "    \n",
    "    print(\"size -> {}\".format(size))\n",
    "    print(\"shape -> {}\".format(shape))\n",
    "    print(\"rank -> {}\".format(rank))\n",
    "    print(\"m_var value -> {}\".format(value))"
   ]
  },
  {
   "cell_type": "markdown",
   "metadata": {},
   "source": [
    "#### arrayの作成の仕方のバリエーション"
   ]
  },
  {
   "cell_type": "code",
   "execution_count": null,
   "metadata": {},
   "outputs": [],
   "source": [
    "zeros_ar = tf.zeros([2, 3], dtype=tf.float32)\n",
    "ones_ar = tf.ones([2, 3, 4], dtype=tf.float32)\n",
    "\n",
    "with tf.Session() as sess:\n",
    "    ones_val = sess.run(zeros_ar)\n",
    "    zeros_val = sess.run(ones_ar)\n",
    "    \n",
    "    print(\"t1 -> {}\\n\".format(ones_val))\n",
    "    print(\"t2 -> {}\".format(zeros_val))"
   ]
  },
  {
   "cell_type": "code",
   "execution_count": null,
   "metadata": {
    "collapsed": true
   },
   "outputs": [],
   "source": []
  },
  {
   "cell_type": "markdown",
   "metadata": {},
   "source": [
    "## indexing、配列の要素にアクセス\n",
    "\n",
    "#### ベクトル"
   ]
  },
  {
   "cell_type": "code",
   "execution_count": null,
   "metadata": {},
   "outputs": [],
   "source": [
    "v_ar"
   ]
  },
  {
   "cell_type": "code",
   "execution_count": null,
   "metadata": {},
   "outputs": [],
   "source": [
    "# placeholder/tensor版\n",
    "\n",
    "with tf.Session() as sess:\n",
    "    fd = {v_ph: v_ar}\n",
    "    \n",
    "    # 先頭の要素\n",
    "    r1 = sess.run(v_ph[0], feed_dict=fd)\n",
    "    print(\"v_ph[0] -> {}\".format(r1))\n",
    "    \n",
    "    # 2番目の要素\n",
    "    r2 = sess.run(v_ph[1], feed_dict=fd)\n",
    "    print(\"v_ph[1] -> {}\".format(r2))\n",
    "    \n",
    "    # 先頭から 2番目まで\n",
    "    r3 = sess.run(v_ph[0:2], feed_dict=fd)\n",
    "    print(\"v_ph[0:2] -> {}\".format(r3))"
   ]
  },
  {
   "cell_type": "code",
   "execution_count": null,
   "metadata": {},
   "outputs": [],
   "source": [
    "# variable版\n",
    "\n",
    "with tf.Session() as sess:\n",
    "    fd = {v_ph: v_ar}\n",
    "    \n",
    "    # 先頭の要素\n",
    "    r1 = sess.run(v_ph[0], feed_dict=fd)\n",
    "    print(\"v_ph[0] -> {}\".format(r1))\n",
    "    \n",
    "    # 2番目の要素\n",
    "    r2 = sess.run(v_ph[1], feed_dict=fd)\n",
    "    print(\"v_ph[1] -> {}\".format(r2))\n",
    "    \n",
    "    # 先頭から 2番目まで\n",
    "    r3 = sess.run(v_ph[0:2], feed_dict=fd)\n",
    "    print(\"v_ph[0:2] -> {}\".format(r3))"
   ]
  },
  {
   "cell_type": "markdown",
   "metadata": {},
   "source": [
    "#### 行列"
   ]
  },
  {
   "cell_type": "code",
   "execution_count": null,
   "metadata": {},
   "outputs": [],
   "source": [
    "m_ar"
   ]
  },
  {
   "cell_type": "code",
   "execution_count": null,
   "metadata": {},
   "outputs": [],
   "source": [
    "# placeholder/tensor版\n",
    "\n",
    "with tf.Session() as sess:\n",
    "    fd = {m_ph: m_ar}\n",
    "    \n",
    "    # m[0, 2]\n",
    "    r1 = sess.run(m_ph[0, 2], feed_dict=fd)\n",
    "    print(\"m_ph[0, 2] -> {}\".format(r1))\n",
    "    \n",
    "    # m[:, 0]\n",
    "    r2 = sess.run(m_ph[:, 0], feed_dict=fd)\n",
    "    print(\"m_ph[:, 0] -> {}\".format(r2))\n",
    "    \n",
    "    # m[1, :]\n",
    "    r3 = sess.run(m_ph[1, :], feed_dict=fd)\n",
    "    print(\"m_ph[1, :] -> {}\".format(r3))\n",
    "    \n",
    "    # m[:, :]\n",
    "    r4 = sess.run(m_ph[:, :], feed_dict=fd)\n",
    "    print(\"m_ph[:, :] -> {}\".format(r4))"
   ]
  },
  {
   "cell_type": "code",
   "execution_count": null,
   "metadata": {},
   "outputs": [],
   "source": [
    "# variable版\n",
    "\n",
    "with tf.Session() as sess:\n",
    "    sess.run(tf.global_variables_initializer())\n",
    "    \n",
    "    # m[0, 2]\n",
    "    r1 = sess.run(m_var[0, 2])\n",
    "    print(\"m_var[0, 2] -> {}\".format(r1))\n",
    "    \n",
    "    # m[:, 0]\n",
    "    r2 = sess.run(m_var[:, 0])\n",
    "    print(\"m_var[:, 0] -> {}\".format(r2))\n",
    "    \n",
    "    # m[1, :]\n",
    "    r3 = sess.run(m_var[1, :])\n",
    "    print(\"m_var[1, :] -> {}\".format(r3))\n",
    "    \n",
    "    # m[:, :]\n",
    "    r4 = sess.run(m_var[:, :])\n",
    "    print(\"m_var[:, :] -> {}\".format(r4))"
   ]
  },
  {
   "cell_type": "code",
   "execution_count": null,
   "metadata": {
    "collapsed": true
   },
   "outputs": [],
   "source": []
  },
  {
   "cell_type": "markdown",
   "metadata": {},
   "source": [
    "## arrayと数値の演算"
   ]
  },
  {
   "cell_type": "code",
   "execution_count": null,
   "metadata": {},
   "outputs": [],
   "source": [
    "v_ar"
   ]
  },
  {
   "cell_type": "code",
   "execution_count": null,
   "metadata": {},
   "outputs": [],
   "source": [
    "with tf.Session() as sess:\n",
    "    fd = {v_ph: v_ar}\n",
    "    \n",
    "    r1 = sess.run(v_ph + 3., feed_dict=fd)\n",
    "    print(\"v_ph + 3 -> {}\".format(r1))\n",
    "    \n",
    "    r2 = sess.run(v_ph * 3., feed_dict=fd)\n",
    "    print(\"v_ph * 3 -> {}\".format(r2))\n",
    "    \n",
    "    r3 = sess.run(v_ph / 3., feed_dict=fd)\n",
    "    print(\"v_ph / 3 -> {}\".format(r3))\n",
    "    \n",
    "    r4 = sess.run(v_ph ** 2., feed_dict=fd)\n",
    "    print(\"v_ph ** 3 -> {}\".format(r4))"
   ]
  },
  {
   "cell_type": "code",
   "execution_count": null,
   "metadata": {
    "collapsed": true
   },
   "outputs": [],
   "source": []
  },
  {
   "cell_type": "markdown",
   "metadata": {},
   "source": [
    "## 関数への代入、代表値"
   ]
  },
  {
   "cell_type": "code",
   "execution_count": null,
   "metadata": {},
   "outputs": [],
   "source": [
    "v_ar"
   ]
  },
  {
   "cell_type": "code",
   "execution_count": null,
   "metadata": {},
   "outputs": [],
   "source": [
    "m_ar"
   ]
  },
  {
   "cell_type": "code",
   "execution_count": null,
   "metadata": {},
   "outputs": [],
   "source": [
    "with tf.Session() as sess:\n",
    "    op1 = tf.exp(v_ph)\n",
    "    op2 = tf.log(m_ph)\n",
    "    op3 = tf.tanh(v_ph)\n",
    "    \n",
    "    r1, r2, r3 = sess.run([op1, op2, op3], feed_dict={v_ph: v_ar, m_ph: m_ar})\n",
    "    \n",
    "    print(\"tf.exp(v_ph) -> {}\".format(r1))\n",
    "    print(\"tf.log(m_ph) -> {}\".format(r2))\n",
    "    print(\"tf.tanh(v_ph) -> {}\".format(r3))"
   ]
  },
  {
   "cell_type": "markdown",
   "metadata": {},
   "source": [
    "#### 合計、平均、最大、最小"
   ]
  },
  {
   "cell_type": "code",
   "execution_count": null,
   "metadata": {},
   "outputs": [],
   "source": [
    "with tf.Session() as sess:\n",
    "    op1 = tf.reduce_sum(v_ph)\n",
    "    op2 = tf.reduce_mean(m_ph)\n",
    "    op3 = tf.reduce_max(m_ph)\n",
    "    op4 = tf.reduce_min(m_ph)\n",
    "    \n",
    "    r1, r2, r3, r4 = sess.run([op1, op2, op3, op4], feed_dict={v_ph: v_ar, m_ph: m_ar})\n",
    "    \n",
    "    print(\"tf.reduce_sum(v_ph) -> {}\".format(r1))\n",
    "    print(\"tf.reduce_mean(m_ph) -> {}\".format(r2))\n",
    "    print(\"tf.reduce_max(m_ph) -> {}\".format(r3))\n",
    "    print(\"tf.reduce_min(m_ph) -> {}\".format(r4))"
   ]
  },
  {
   "cell_type": "code",
   "execution_count": null,
   "metadata": {
    "collapsed": true
   },
   "outputs": [],
   "source": []
  },
  {
   "cell_type": "markdown",
   "metadata": {},
   "source": [
    "## ベクトル同士、行列同士、ベクトルと行列 等が絡んだ計算\n",
    "\n",
    "#### ベクトル"
   ]
  },
  {
   "cell_type": "code",
   "execution_count": null,
   "metadata": {
    "collapsed": true
   },
   "outputs": [],
   "source": [
    "v1_ar = np.array([1, 2, 3], dtype=np.float32)\n",
    "v2_ar = np.array([2, 2, 2], dtype=np.float32)\n",
    "\n",
    "v1_ph = tf.placeholder(tf.float32)\n",
    "v2_ph = tf.placeholder(tf.float32)"
   ]
  },
  {
   "cell_type": "code",
   "execution_count": null,
   "metadata": {},
   "outputs": [],
   "source": [
    "with tf.Session() as sess:\n",
    "    fd = {v1_ph: v1_ar, v2_ph: v2_ar}\n",
    "    \n",
    "    r1 = sess.run(v1_ph + v2_ph, feed_dict=fd)\n",
    "    print(\"v1_ph + v2_ph -> {}\".format(r1))\n",
    "    \n",
    "    r2 = sess.run(v1_ph * v2_ph, feed_dict=fd)\n",
    "    print(\"v1_ph * v2_ph -> {}\".format(r2))\n",
    "    \n",
    "    r3 = sess.run(v1_ph / v2_ph, feed_dict=fd)\n",
    "    print(\"v1_ph / v2_ph -> {}\".format(r3))\n",
    "    \n",
    "    r4 = sess.run(v1_ph ** v2_ph, feed_dict=fd)\n",
    "    print(\"v1_ph ** v2_ph -> {}\".format(r4))"
   ]
  },
  {
   "cell_type": "markdown",
   "metadata": {},
   "source": [
    "#### 行列"
   ]
  },
  {
   "cell_type": "code",
   "execution_count": null,
   "metadata": {
    "collapsed": true
   },
   "outputs": [],
   "source": [
    "m1_ar = np.array([[1, 2, 3], [4, 5, 6]], dtype=\"float32\")\n",
    "m2_ar = np.array([[2, 2, 2], [2, 2, 2]], dtype=\"float32\")\n",
    "\n",
    "m1_ph = tf.placeholder(tf.float32)\n",
    "m2_ph = tf.placeholder(tf.float32)"
   ]
  },
  {
   "cell_type": "code",
   "execution_count": null,
   "metadata": {},
   "outputs": [],
   "source": [
    "with tf.Session() as sess:\n",
    "    fd = {m1_ph: m1_ar, m2_ph: m2_ar}\n",
    "    \n",
    "    r1 = sess.run(m1_ph + m2_ph, feed_dict=fd)\n",
    "    print(\"m1_ph + m2_ph -> {}\\n\".format(r1))\n",
    "    \n",
    "    r2 = sess.run(m1_ph * m2_ph, feed_dict=fd)\n",
    "    print(\"m1_ph * m2_ph -> {}\".format(r2))"
   ]
  },
  {
   "cell_type": "markdown",
   "metadata": {},
   "source": [
    "#### ベクトルと行列、broadcasting"
   ]
  },
  {
   "cell_type": "code",
   "execution_count": null,
   "metadata": {},
   "outputs": [],
   "source": [
    "m1_ar"
   ]
  },
  {
   "cell_type": "code",
   "execution_count": null,
   "metadata": {},
   "outputs": [],
   "source": [
    "m2_ar"
   ]
  },
  {
   "cell_type": "code",
   "execution_count": null,
   "metadata": {},
   "outputs": [],
   "source": [
    "v_ar"
   ]
  },
  {
   "cell_type": "code",
   "execution_count": null,
   "metadata": {},
   "outputs": [],
   "source": [
    "with tf.Session() as sess:\n",
    "    fd = {m1_ph: m1_ar, m2_ph: m2_ar, v_ph: v_ar}\n",
    "    \n",
    "    op1 = m1_ph + 3.\n",
    "    op2 = m2_ph + v_ph\n",
    "    \n",
    "    r1, r2 = sess.run([op1, op2], feed_dict=fd)\n",
    "    \n",
    "    print(\"m1_ph + 3 -> {}\\n\".format(r1))\n",
    "    print(\"m2_ph + v_ph -> {}\".format(r2))"
   ]
  },
  {
   "cell_type": "code",
   "execution_count": null,
   "metadata": {
    "collapsed": true
   },
   "outputs": [],
   "source": []
  },
  {
   "cell_type": "markdown",
   "metadata": {},
   "source": [
    "#### ベクトルの内積、行列の積"
   ]
  },
  {
   "cell_type": "code",
   "execution_count": null,
   "metadata": {
    "collapsed": true
   },
   "outputs": [],
   "source": [
    "# ※ TensorFlowではベクトル同士の内積演算は定義されておらず、行列同士の積として書く必要あり\n",
    "# 行ベクトル\n",
    "vec1_ar = np.array([[1, 2, 3]], dtype=np.float32)\n",
    "# 列ベクトル\n",
    "vec2_ar = np.array([[2], [2], [2]], dtype=np.float32)\n",
    "\n",
    "# 2x3行列\n",
    "mat1_ar = np.array([[1, 2, 3], [4, 5, 6]], dtype=np.float32)\n",
    "\n",
    "# 2x3行列\n",
    "mat2_ar = np.array([[2, 2, 2], [2, 2, 2]], dtype=\"float32\")"
   ]
  },
  {
   "cell_type": "code",
   "execution_count": null,
   "metadata": {},
   "outputs": [],
   "source": [
    "vec1_ar"
   ]
  },
  {
   "cell_type": "code",
   "execution_count": null,
   "metadata": {},
   "outputs": [],
   "source": [
    "vec2_ar"
   ]
  },
  {
   "cell_type": "code",
   "execution_count": null,
   "metadata": {},
   "outputs": [],
   "source": [
    "mat1_ar"
   ]
  },
  {
   "cell_type": "code",
   "execution_count": null,
   "metadata": {},
   "outputs": [],
   "source": [
    "mat2_ar"
   ]
  },
  {
   "cell_type": "markdown",
   "metadata": {},
   "source": [
    "#### ベクトルの内積"
   ]
  },
  {
   "cell_type": "code",
   "execution_count": null,
   "metadata": {},
   "outputs": [],
   "source": [
    "# placeholder/tensor版\n",
    "\n",
    "vec1_ph = tf.placeholder(tf.float32)\n",
    "vec2_ph = tf.placeholder(tf.float32)\n",
    "\n",
    "with tf.Session() as sess:\n",
    "    r = sess.run(tf.matmul(vec1_ph, vec2_ph), \n",
    "            feed_dict={vec1_ph: vec1_ar, vec2_ph: vec2_ar})\n",
    "    print(r)"
   ]
  },
  {
   "cell_type": "code",
   "execution_count": null,
   "metadata": {},
   "outputs": [],
   "source": [
    "# variable版\n",
    "\n",
    "vec1_var = tf.Variable(vec1_ar, dtype=tf.float32)\n",
    "vec2_var = tf.Variable(vec2_ar, dtype=tf.float32)\n",
    "\n",
    "with tf.Session() as sess:\n",
    "    sess.run(tf.global_variables_initializer())\n",
    "    r = sess.run(tf.matmul(vec1_var, vec2_var))\n",
    "    print(r)"
   ]
  },
  {
   "cell_type": "code",
   "execution_count": null,
   "metadata": {},
   "outputs": [],
   "source": [
    "# placeholderとtensor、両方使う版\n",
    "\n",
    "with tf.Session() as sess:\n",
    "    sess.run(tf.global_variables_initializer())\n",
    "    r = sess.run(tf.matmul(vec1_ph, vec2_var), feed_dict={vec1_ph: vec1_ar})\n",
    "    print(r)"
   ]
  },
  {
   "cell_type": "markdown",
   "metadata": {
    "collapsed": true
   },
   "source": [
    "#### 行列とベクトルの積"
   ]
  },
  {
   "cell_type": "code",
   "execution_count": null,
   "metadata": {},
   "outputs": [],
   "source": [
    "mat1_ph = tf.placeholder(tf.float32)\n",
    "\n",
    "with tf.Session() as sess:\n",
    "    r = sess.run(tf.matmul(mat1_ph, vec2_ph), \n",
    "            feed_dict={mat1_ph: mat1_ar, vec2_ph: vec2_ar})\n",
    "    print(r)"
   ]
  },
  {
   "cell_type": "code",
   "execution_count": null,
   "metadata": {},
   "outputs": [],
   "source": [
    "mat2_ph = tf.placeholder(tf.float32)\n",
    "\n",
    "with tf.Session() as sess:\n",
    "    r = sess.run(tf.matmul(vec1_ph, tf.transpose(mat2_ph)),\n",
    "            feed_dict={vec1_ph: vec1_ar, mat2_ph: mat2_ar})\n",
    "    print(r)"
   ]
  },
  {
   "cell_type": "markdown",
   "metadata": {},
   "source": [
    "#### 行列同士の積"
   ]
  },
  {
   "cell_type": "code",
   "execution_count": null,
   "metadata": {},
   "outputs": [],
   "source": [
    "mat2_ph = tf.placeholder(tf.float32)\n",
    "\n",
    "with tf.Session() as sess:\n",
    "    r = sess.run(tf.matmul(tf.transpose(mat1_ph), mat2_ph), \n",
    "            feed_dict={mat1_ph: mat1_ar, mat2_ph: mat2_ar})\n",
    "    print(r)"
   ]
  },
  {
   "cell_type": "code",
   "execution_count": null,
   "metadata": {
    "collapsed": true
   },
   "outputs": [],
   "source": []
  }
 ],
 "metadata": {
  "kernelspec": {
   "display_name": "Python 3",
   "language": "python",
   "name": "python3"
  },
  "language_info": {
   "codemirror_mode": {
    "name": "ipython",
    "version": 3
   },
   "file_extension": ".py",
   "mimetype": "text/x-python",
   "name": "python",
   "nbconvert_exporter": "python",
   "pygments_lexer": "ipython3",
   "version": "3.6.1"
  }
 },
 "nbformat": 4,
 "nbformat_minor": 2
}
