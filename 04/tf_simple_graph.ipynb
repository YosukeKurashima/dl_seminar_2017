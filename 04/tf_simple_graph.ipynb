{
 "cells": [
  {
   "cell_type": "code",
   "execution_count": null,
   "metadata": {
    "collapsed": true
   },
   "outputs": [],
   "source": [
    "# TensorFlowのモジュール読み込み、通常 tfと名前を付けて使う\n",
    "import tensorflow as tf"
   ]
  },
  {
   "cell_type": "markdown",
   "metadata": {},
   "source": [
    "#### (a + 3) × 2 の計算 "
   ]
  },
  {
   "cell_type": "code",
   "execution_count": null,
   "metadata": {
    "collapsed": true
   },
   "outputs": [],
   "source": [
    "# 入力データの入り口、placeholderを定義\n",
    "a = tf.placeholder(tf.float32)"
   ]
  },
  {
   "cell_type": "code",
   "execution_count": null,
   "metadata": {
    "collapsed": true
   },
   "outputs": [],
   "source": [
    "# variable定義 その1\n",
    "v1 = tf.Variable(3., dtype=tf.float32)"
   ]
  },
  {
   "cell_type": "code",
   "execution_count": null,
   "metadata": {
    "collapsed": true
   },
   "outputs": [],
   "source": [
    "# 「a + 3」を表すノード（tensor）を定義\n",
    "t1 = a + v1"
   ]
  },
  {
   "cell_type": "code",
   "execution_count": null,
   "metadata": {
    "collapsed": true
   },
   "outputs": [],
   "source": [
    "# variable定義 その2\n",
    "v2 = tf.Variable(2., dtype=tf.float32)"
   ]
  },
  {
   "cell_type": "code",
   "execution_count": null,
   "metadata": {
    "collapsed": true
   },
   "outputs": [],
   "source": [
    "# 「(a + 3) × 3」を表すノード（tensor）を定義\n",
    "t2 = t1 * v2"
   ]
  },
  {
   "cell_type": "code",
   "execution_count": null,
   "metadata": {},
   "outputs": [],
   "source": [
    "# TensorFlowのsession立ち上げ\n",
    "\n",
    "with tf.Session() as sess:\n",
    "    # variableの初期化\n",
    "    sess.run(tf.global_variables_initializer())\n",
    "    \n",
    "    # placeholderに値を与えて graphの計算実行、\n",
    "    # 結果を変数 rに格納\n",
    "    r = sess.run(t2, feed_dict={a: 1})\n",
    "    print(r)"
   ]
  },
  {
   "cell_type": "code",
   "execution_count": null,
   "metadata": {
    "collapsed": true
   },
   "outputs": [],
   "source": []
  },
  {
   "cell_type": "markdown",
   "metadata": {},
   "source": [
    "#### 演習 ####\n",
    "- 上の例を参考に、新たなplaceholder b と c、新たなvariable v3を定義して、3つの数値を組み合わせた計算グラフを作り、実行しましょう。\n",
    "   - 計算の例としては「3つの数値の和」など\n",
    "   - v3は事前に初期値を与えておき、b、cについては実行時にfeed_dict経由で値を与える形になります\n",
    "- あるいは、より多くのplaceholder・variableを使った計算にトライしていただいてもかまいません。"
   ]
  },
  {
   "cell_type": "code",
   "execution_count": null,
   "metadata": {
    "collapsed": true
   },
   "outputs": [],
   "source": []
  },
  {
   "cell_type": "code",
   "execution_count": null,
   "metadata": {
    "collapsed": true
   },
   "outputs": [],
   "source": []
  },
  {
   "cell_type": "code",
   "execution_count": null,
   "metadata": {
    "collapsed": true
   },
   "outputs": [],
   "source": []
  },
  {
   "cell_type": "code",
   "execution_count": null,
   "metadata": {
    "collapsed": true
   },
   "outputs": [],
   "source": []
  },
  {
   "cell_type": "code",
   "execution_count": null,
   "metadata": {
    "collapsed": true
   },
   "outputs": [],
   "source": []
  },
  {
   "cell_type": "code",
   "execution_count": null,
   "metadata": {
    "collapsed": true
   },
   "outputs": [],
   "source": []
  },
  {
   "cell_type": "code",
   "execution_count": null,
   "metadata": {
    "collapsed": true
   },
   "outputs": [],
   "source": []
  },
  {
   "cell_type": "markdown",
   "metadata": {
    "collapsed": true
   },
   "source": [
    "#### graphについて補足\n",
    "TensorFlowをimportすると、自動でデフォルトgraphが一つ作られ、特に対象graphを指定しなければそれが使われる"
   ]
  },
  {
   "cell_type": "code",
   "execution_count": null,
   "metadata": {},
   "outputs": [],
   "source": [
    "# デフォルトgraph 取得\n",
    "g = tf.get_default_graph()\n",
    "\n",
    "# gで持っているopのリスト\n",
    "g._nodes_by_id"
   ]
  },
  {
   "cell_type": "code",
   "execution_count": null,
   "metadata": {},
   "outputs": [],
   "source": [
    "with tf.Session() as sess:\n",
    "    # sessionを立ち上げるときに、graphを特に指定しなければデフォルトgraphが使われる\n",
    "    print(sess.graph is g)"
   ]
  },
  {
   "cell_type": "code",
   "execution_count": null,
   "metadata": {
    "collapsed": true
   },
   "outputs": [],
   "source": [
    "# デフォルト以外のgraphをセットアップして利用\n",
    "\n",
    "# 新たなgraph、g2をセットアップ\n",
    "g2 = tf.Graph()\n",
    "\n",
    "# g2に、定数をあらわす2つのtensor、それらの和を定義\n",
    "with g2.as_default():\n",
    "    c1 = tf.constant(3., dtype=tf.float32, name=\"c1\")\n",
    "    c2 = tf.constant(2., dtype=tf.float32, name=\"c2\")\n",
    "    t_add = c1 + c2"
   ]
  },
  {
   "cell_type": "code",
   "execution_count": null,
   "metadata": {},
   "outputs": [],
   "source": [
    "# g2で持っているopのリスト\n",
    "g2._nodes_by_id"
   ]
  },
  {
   "cell_type": "code",
   "execution_count": null,
   "metadata": {},
   "outputs": [],
   "source": [
    "# session立ち上げ、実行\n",
    "\n",
    "with tf.Session(graph=g2) as sess:\n",
    "    print(sess.run(t_add))"
   ]
  },
  {
   "cell_type": "code",
   "execution_count": null,
   "metadata": {
    "collapsed": true
   },
   "outputs": [],
   "source": []
  },
  {
   "cell_type": "code",
   "execution_count": null,
   "metadata": {
    "collapsed": true
   },
   "outputs": [],
   "source": []
  }
 ],
 "metadata": {
  "kernelspec": {
   "display_name": "Python 3",
   "language": "python",
   "name": "python3"
  },
  "language_info": {
   "codemirror_mode": {
    "name": "ipython",
    "version": 3
   },
   "file_extension": ".py",
   "mimetype": "text/x-python",
   "name": "python",
   "nbconvert_exporter": "python",
   "pygments_lexer": "ipython3",
   "version": "3.6.1"
  }
 },
 "nbformat": 4,
 "nbformat_minor": 2
}
