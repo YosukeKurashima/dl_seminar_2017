{
 "cells": [
  {
   "cell_type": "code",
   "execution_count": null,
   "metadata": {
    "collapsed": true
   },
   "outputs": [],
   "source": [
    "import os\n",
    "import glob\n",
    "\n",
    "import numpy as np\n",
    "import matplotlib.pyplot as plt\n",
    "import tensorflow as tf\n",
    "\n",
    "%matplotlib inline"
   ]
  },
  {
   "cell_type": "code",
   "execution_count": null,
   "metadata": {
    "collapsed": true
   },
   "outputs": [],
   "source": []
  },
  {
   "cell_type": "code",
   "execution_count": null,
   "metadata": {
    "collapsed": true
   },
   "outputs": [],
   "source": [
    "# データ読み込み\n",
    "data = np.load(open(\"mnist_mini_comp.npz\", \"br\"))\n",
    "\n",
    "train_image = data[\"train_image\"].reshape(-1, 28, 28, 1)\n",
    "train_label = data[\"train_label\"]\n",
    "valid_image = data[\"valid_image\"].reshape(-1, 28, 28, 1)\n",
    "valid_label = data[\"valid_label\"]\n",
    "test_image = data[\"test_image\"].reshape(-1, 28, 28, 1)\n",
    "test_label = data[\"test_label\"]\n",
    "\n",
    "# settings\n",
    "batch_size = 100\n",
    "train_total_itr = int(train_image.shape[0] / batch_size)\n",
    "eval_total_itr = int(test_image.shape[0] / batch_size)"
   ]
  },
  {
   "cell_type": "code",
   "execution_count": null,
   "metadata": {
    "collapsed": true
   },
   "outputs": [],
   "source": [
    "# 読み込んだデータの概要\n",
    "print(\"train_image.shape: {}\".format(train_image.shape))\n",
    "print(\"train_label.shape: {}\".format(train_label.shape))\n",
    "print(\"\")\n",
    "print(\"valid_image.shape: {}\".format(valid_image.shape))\n",
    "print(\"valid_label.shape: {}\".format(valid_label.shape))\n",
    "print(\"\")\n",
    "print(\"test_image.shape: {}\".format(test_image.shape))\n",
    "print(\"test_label.shape: {}\".format(test_label.shape))\n",
    "print(\"\")\n",
    "print(\"dtype\")\n",
    "print(\"  train_image.dtype: {}\".format(train_image.dtype))\n",
    "print(\"  train_label.dtype: {}\".format(train_label.dtype))"
   ]
  },
  {
   "cell_type": "code",
   "execution_count": null,
   "metadata": {
    "collapsed": true
   },
   "outputs": [],
   "source": [
    "# label側の内容確認\n",
    "train_label[:10]"
   ]
  },
  {
   "cell_type": "code",
   "execution_count": null,
   "metadata": {
    "collapsed": true
   },
   "outputs": [],
   "source": [
    "# image側の内容確認\n",
    "plt.imshow(train_image[0][:, :, 0], cmap=\"gray\")"
   ]
  },
  {
   "cell_type": "code",
   "execution_count": null,
   "metadata": {
    "collapsed": true
   },
   "outputs": [],
   "source": []
  },
  {
   "cell_type": "code",
   "execution_count": null,
   "metadata": {
    "collapsed": true
   },
   "outputs": [],
   "source": [
    "# == placeholder定義 ==\n",
    "# データ\n",
    "x = tf.placeholder(dtype=tf.float32)\n",
    "# 正解ラベル\n",
    "t = tf.placeholder(dtype=tf.int32)"
   ]
  },
  {
   "cell_type": "code",
   "execution_count": null,
   "metadata": {
    "collapsed": true
   },
   "outputs": [],
   "source": [
    "# == 第1層 convolution + max pooling ==\n",
    "# variable定義\n",
    "W1 = tf.Variable(tf.random_normal([5, 5, 1, 6], stddev=0.1), dtype=tf.float32)\n",
    "b1 = tf.Variable(tf.random_normal([6], stddev=0.1), dtype=tf.float32)\n",
    "\n",
    "# 計算グラフ定義\n",
    "pre_conv1 = tf.nn.conv2d(x, W1, (1, 1, 1, 1), \"VALID\")\n",
    "conv1 = tf.nn.bias_add(pre_conv1, b1)\n",
    "relu1 = tf.nn.relu(conv1)\n",
    "h1 = tf.nn.max_pool(relu1, (1, 2, 2, 1), (1, 2, 2, 1), \"VALID\")"
   ]
  },
  {
   "cell_type": "code",
   "execution_count": null,
   "metadata": {
    "collapsed": true
   },
   "outputs": [],
   "source": [
    "# == 第2層 convolution + max pooling ==\n",
    "# variable定義\n",
    "# (ここにコードを入力)\n",
    "\n",
    "# 計算グラフ定義\n",
    "# (ここにコードを入力)"
   ]
  },
  {
   "cell_type": "code",
   "execution_count": null,
   "metadata": {
    "collapsed": true
   },
   "outputs": [],
   "source": []
  },
  {
   "cell_type": "code",
   "execution_count": null,
   "metadata": {
    "collapsed": true
   },
   "outputs": [],
   "source": [
    "# == 第3層 fully-connected ==\n",
    "# variable定義\n",
    "W3 = tf.Variable(tf.random_normal([256, 60], stddev=0.1), dtype=tf.float32)\n",
    "b3 = tf.Variable(tf.random_normal([60], stddev=0.1), dtype=tf.float32)\n",
    "\n",
    "# 計算グラフ定義\n",
    "a3 = tf.matmul(h2_reshaped, W3) + b3\n",
    "h3 = tf.nn.relu(a3)"
   ]
  },
  {
   "cell_type": "code",
   "execution_count": null,
   "metadata": {
    "collapsed": true
   },
   "outputs": [],
   "source": [
    "# == 第4層 fully-connected ==\n",
    "# variable定義\n",
    "# (ここにコードを入力)\n",
    "\n",
    "# 計算グラフ定義\n",
    "# ※ 出力層のactivationは logitsという変数名にしておく\n",
    "# (ここにコードを入力)\n"
   ]
  },
  {
   "cell_type": "code",
   "execution_count": null,
   "metadata": {
    "collapsed": true
   },
   "outputs": [],
   "source": [
    "# == コスト定義 ==\n",
    "# tf.nn.sparse_softmax_cross_entropy_with_logitsで得られるのはレコード毎のコスト\n",
    "cross_entropy = tf.nn.sparse_softmax_cross_entropy_with_logits(logits=logits, labels=t)\n",
    "# レコード毎の値を 平均値に集約\n",
    "cost = tf.reduce_mean(cross_entropy)"
   ]
  },
  {
   "cell_type": "code",
   "execution_count": null,
   "metadata": {
    "collapsed": true
   },
   "outputs": [],
   "source": [
    "# == 学習用のopを定義 ==\n",
    "trainer = tf.train.GradientDescentOptimizer(learning_rate=0.03)\n",
    "train_op = trainer.minimize(cost, var_list=[W1, b1, W2, b2, W3, b3, W4, b4])"
   ]
  },
  {
   "cell_type": "code",
   "execution_count": null,
   "metadata": {
    "collapsed": true
   },
   "outputs": [],
   "source": [
    "# モデルのsave/restore用 utility\n",
    "if not os.path.isdir(\"models\"):\n",
    "    os.makedirs(\"models\")\n",
    "saver = tf.train.Saver(max_to_keep=None)"
   ]
  },
  {
   "cell_type": "code",
   "execution_count": null,
   "metadata": {
    "collapsed": true
   },
   "outputs": [],
   "source": [
    "# 評価用の関数\n",
    "def evaluation(sess, d_image, d_label):\n",
    "    match_count = 0\n",
    "    for i in range(eval_total_itr):\n",
    "        batch_image = d_image[i * batch_size: (i + 1) * batch_size]\n",
    "        batch_label = d_label[i * batch_size: (i + 1) * batch_size]\n",
    "        raw_results = sess.run(logits, feed_dict={x: batch_image})\n",
    "        results = np.argmax(raw_results, axis=1)\n",
    "        match_count += np.sum(batch_label == results)\n",
    "    accuracy = float(match_count) / float(d_label.size)\n",
    "    return accuracy"
   ]
  },
  {
   "cell_type": "code",
   "execution_count": null,
   "metadata": {
    "collapsed": true
   },
   "outputs": [],
   "source": [
    "# 実際の学習\n",
    "total_epochs = 10\n",
    "\n",
    "cost_history = list()\n",
    "valid_history = list()\n",
    "test_accuracy = 0.\n",
    "\n",
    "# 以前の実行の途中経過が残っていれば削除\n",
    "fpath_pattern = os.path.join(\"models\", \"model.*\")\n",
    "model_list = glob.glob(fpath_pattern)\n",
    "for p in model_list:\n",
    "    os.remove(p)\n",
    "    \n",
    "with tf.Session() as sess:\n",
    "    # variable初期化\n",
    "    sess.run(tf.global_variables_initializer())\n",
    "    \n",
    "    itr = 1\n",
    "    for epoch in range(1, total_epochs + 1):\n",
    "        print(\"\")\n",
    "        print(\"=== epoch {} ===\".format(epoch))\n",
    "        \n",
    "        for i in range(train_total_itr):\n",
    "            # image, lagelについての mini-batchデータを用意\n",
    "            image = train_image[i * batch_size: (i + 1) * batch_size]\n",
    "            label = train_label[i * batch_size: (i + 1) * batch_size]\n",
    "            \n",
    "            # TensorFlowのsession実行、学習・コスト取得\n",
    "            fd = {x: image, t: label}\n",
    "            cost_val, _ = sess.run((cost, train_op), feed_dict=fd)\n",
    "            \n",
    "            if itr % 10 == 0:\n",
    "                cost_history.append((itr, cost_val))\n",
    "                print(\"itr: {}, cost: {:.04f}\".format(itr, cost_val))\n",
    "                \n",
    "            # validation\n",
    "            if itr % 50 == 0:\n",
    "                acc = evaluation(sess, valid_image, valid_label)\n",
    "                valid_history.append((itr, acc))\n",
    "                print(\"validation accuracy: {}\".format(acc))\n",
    "                print(\"\")\n",
    "                fpath = os.path.join(\"models\", \"model.{}\".format(itr))\n",
    "                saver.save(sess, fpath)\n",
    "                \n",
    "            itr += 1\n",
    "            \n",
    "    # test\n",
    "    sorted_valid_history = sorted(valid_history, key=lambda x: x[1], reverse=True)\n",
    "    best_itr = sorted_valid_history[0][0]\n",
    "    best_acc = sorted_valid_history[0][1]\n",
    "    print(\"best validation performance was {} at iter {}\".format(best_acc, best_itr))\n",
    "    \n",
    "    fpath = os.path.join(\"models\", \"model.{}\".format(best_itr))\n",
    "    saver.restore(sess, fpath)\n",
    "    test_accuracy = evaluation(sess, test_image, test_label)\n",
    "    print(\"test accuracy: {}\".format(acc))"
   ]
  },
  {
   "cell_type": "code",
   "execution_count": null,
   "metadata": {
    "collapsed": true
   },
   "outputs": [],
   "source": [
    "plt.figure(figsize=(10, 5))\n",
    "ax1 = plt.subplot(211)\n",
    "ax2 = plt.subplot(212)\n",
    "\n",
    "train_x = [t[0] for t in cost_history]\n",
    "train_y = [t[1] for t in cost_history]\n",
    "valid_x = [t[0] for t in valid_history]\n",
    "valid_y = [t[1] for t in valid_history]\n",
    "\n",
    "ax1.plot(train_x, train_y, color=\"green\")\n",
    "ax2.plot(valid_x, valid_y)\n",
    "ax2.hlines(test_accuracy, xmin=train_x[0], xmax=train_x[-1], color=\"red\", linestyles=\"--\")\n",
    "\n",
    "plt.title(\"learning curve for MNIST training\")\n",
    "ax1.set_title(\"cost\")\n",
    "ax2.set_title(\"accuracy\")\n",
    "\n",
    "ax2.legend([\"validation\", \"test\"], loc=4);"
   ]
  },
  {
   "cell_type": "code",
   "execution_count": null,
   "metadata": {
    "collapsed": true
   },
   "outputs": [],
   "source": []
  },
  {
   "cell_type": "code",
   "execution_count": null,
   "metadata": {
    "collapsed": true
   },
   "outputs": [],
   "source": []
  },
  {
   "cell_type": "code",
   "execution_count": null,
   "metadata": {
    "collapsed": true
   },
   "outputs": [],
   "source": []
  }
 ],
 "metadata": {
  "kernelspec": {
   "display_name": "Python 3",
   "language": "python",
   "name": "python3"
  },
  "language_info": {
   "codemirror_mode": {
    "name": "ipython",
    "version": 3
   },
   "file_extension": ".py",
   "mimetype": "text/x-python",
   "name": "python",
   "nbconvert_exporter": "python",
   "pygments_lexer": "ipython3",
   "version": "3.6.1"
  }
 },
 "nbformat": 4,
 "nbformat_minor": 2
}
